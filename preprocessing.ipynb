{
 "cells": [
  {
   "cell_type": "markdown",
   "metadata": {},
   "source": [
    "# Исследование надёжности заёмщиков\n",
    "\n",
    "На основе исторических данных о поведении клиентов кредитного отдела банка необходимо выяснить, как влияют и влияют ли вообще на возврат кредита следующие факторы:\n",
    "- наличие детей;\n",
    "- семейное положение;\n",
    "- уровень дохода;\n",
    "- разные цели кредита."
   ]
  },
  {
   "cell_type": "markdown",
   "metadata": {},
   "source": [
    "## Общий обзор данных"
   ]
  },
  {
   "cell_type": "code",
   "execution_count": 1,
   "metadata": {},
   "outputs": [
    {
     "name": "stdout",
     "output_type": "stream",
     "text": [
      "Requirement already satisfied: pymorphy2 in c:\\users\\dns\\anaconda3\\lib\\site-packages (0.9.1)\n",
      "Requirement already satisfied: dawg-python>=0.7.1 in c:\\users\\dns\\anaconda3\\lib\\site-packages (from pymorphy2) (0.7.2)\n",
      "Requirement already satisfied: pymorphy2-dicts-ru<3.0,>=2.4 in c:\\users\\dns\\anaconda3\\lib\\site-packages (from pymorphy2) (2.4.417127.4579844)\n",
      "Requirement already satisfied: docopt>=0.6 in c:\\users\\dns\\anaconda3\\lib\\site-packages (from pymorphy2) (0.6.2)\n",
      "Note: you may need to restart the kernel to use updated packages.\n",
      "Requirement already satisfied: pymorphy2-dicts-ru in c:\\users\\dns\\anaconda3\\lib\\site-packages (2.4.417127.4579844)\n",
      "Note: you may need to restart the kernel to use updated packages.\n"
     ]
    }
   ],
   "source": [
    "%pip install pymorphy2\n",
    "%pip install -U pymorphy2-dicts-ru\n",
    "import pymorphy2\n",
    "morph = pymorphy2.MorphAnalyzer()\n",
    "import pandas as pd"
   ]
  },
  {
   "cell_type": "code",
   "execution_count": 2,
   "metadata": {},
   "outputs": [
    {
     "name": "stdout",
     "output_type": "stream",
     "text": [
      "<class 'pandas.core.frame.DataFrame'>\n",
      "RangeIndex: 21525 entries, 0 to 21524\n",
      "Data columns (total 12 columns):\n",
      " #   Column            Non-Null Count  Dtype  \n",
      "---  ------            --------------  -----  \n",
      " 0   children          21525 non-null  int64  \n",
      " 1   days_employed     19351 non-null  float64\n",
      " 2   dob_years         21525 non-null  int64  \n",
      " 3   education         21525 non-null  object \n",
      " 4   education_id      21525 non-null  int64  \n",
      " 5   family_status     21525 non-null  object \n",
      " 6   family_status_id  21525 non-null  int64  \n",
      " 7   gender            21525 non-null  object \n",
      " 8   income_type       21525 non-null  object \n",
      " 9   debt              21525 non-null  int64  \n",
      " 10  total_income      19351 non-null  float64\n",
      " 11  purpose           21525 non-null  object \n",
      "dtypes: float64(2), int64(5), object(5)\n",
      "memory usage: 2.0+ MB\n"
     ]
    },
    {
     "data": {
      "text/html": [
       "<div>\n",
       "<style scoped>\n",
       "    .dataframe tbody tr th:only-of-type {\n",
       "        vertical-align: middle;\n",
       "    }\n",
       "\n",
       "    .dataframe tbody tr th {\n",
       "        vertical-align: top;\n",
       "    }\n",
       "\n",
       "    .dataframe thead th {\n",
       "        text-align: right;\n",
       "    }\n",
       "</style>\n",
       "<table border=\"1\" class=\"dataframe\">\n",
       "  <thead>\n",
       "    <tr style=\"text-align: right;\">\n",
       "      <th></th>\n",
       "      <th>children</th>\n",
       "      <th>days_employed</th>\n",
       "      <th>dob_years</th>\n",
       "      <th>education</th>\n",
       "      <th>education_id</th>\n",
       "      <th>family_status</th>\n",
       "      <th>family_status_id</th>\n",
       "      <th>gender</th>\n",
       "      <th>income_type</th>\n",
       "      <th>debt</th>\n",
       "      <th>total_income</th>\n",
       "      <th>purpose</th>\n",
       "    </tr>\n",
       "  </thead>\n",
       "  <tbody>\n",
       "    <tr>\n",
       "      <th>0</th>\n",
       "      <td>1</td>\n",
       "      <td>-8437.673028</td>\n",
       "      <td>42</td>\n",
       "      <td>высшее</td>\n",
       "      <td>0</td>\n",
       "      <td>женат / замужем</td>\n",
       "      <td>0</td>\n",
       "      <td>F</td>\n",
       "      <td>сотрудник</td>\n",
       "      <td>0</td>\n",
       "      <td>253875.639453</td>\n",
       "      <td>покупка жилья</td>\n",
       "    </tr>\n",
       "    <tr>\n",
       "      <th>1</th>\n",
       "      <td>1</td>\n",
       "      <td>-4024.803754</td>\n",
       "      <td>36</td>\n",
       "      <td>среднее</td>\n",
       "      <td>1</td>\n",
       "      <td>женат / замужем</td>\n",
       "      <td>0</td>\n",
       "      <td>F</td>\n",
       "      <td>сотрудник</td>\n",
       "      <td>0</td>\n",
       "      <td>112080.014102</td>\n",
       "      <td>приобретение автомобиля</td>\n",
       "    </tr>\n",
       "    <tr>\n",
       "      <th>2</th>\n",
       "      <td>0</td>\n",
       "      <td>-5623.422610</td>\n",
       "      <td>33</td>\n",
       "      <td>Среднее</td>\n",
       "      <td>1</td>\n",
       "      <td>женат / замужем</td>\n",
       "      <td>0</td>\n",
       "      <td>M</td>\n",
       "      <td>сотрудник</td>\n",
       "      <td>0</td>\n",
       "      <td>145885.952297</td>\n",
       "      <td>покупка жилья</td>\n",
       "    </tr>\n",
       "    <tr>\n",
       "      <th>3</th>\n",
       "      <td>3</td>\n",
       "      <td>-4124.747207</td>\n",
       "      <td>32</td>\n",
       "      <td>среднее</td>\n",
       "      <td>1</td>\n",
       "      <td>женат / замужем</td>\n",
       "      <td>0</td>\n",
       "      <td>M</td>\n",
       "      <td>сотрудник</td>\n",
       "      <td>0</td>\n",
       "      <td>267628.550329</td>\n",
       "      <td>дополнительное образование</td>\n",
       "    </tr>\n",
       "    <tr>\n",
       "      <th>4</th>\n",
       "      <td>0</td>\n",
       "      <td>340266.072047</td>\n",
       "      <td>53</td>\n",
       "      <td>среднее</td>\n",
       "      <td>1</td>\n",
       "      <td>гражданский брак</td>\n",
       "      <td>1</td>\n",
       "      <td>F</td>\n",
       "      <td>пенсионер</td>\n",
       "      <td>0</td>\n",
       "      <td>158616.077870</td>\n",
       "      <td>сыграть свадьбу</td>\n",
       "    </tr>\n",
       "  </tbody>\n",
       "</table>\n",
       "</div>"
      ],
      "text/plain": [
       "   children  days_employed  dob_years education  education_id  \\\n",
       "0         1   -8437.673028         42    высшее             0   \n",
       "1         1   -4024.803754         36   среднее             1   \n",
       "2         0   -5623.422610         33   Среднее             1   \n",
       "3         3   -4124.747207         32   среднее             1   \n",
       "4         0  340266.072047         53   среднее             1   \n",
       "\n",
       "      family_status  family_status_id gender income_type  debt   total_income  \\\n",
       "0   женат / замужем                 0      F   сотрудник     0  253875.639453   \n",
       "1   женат / замужем                 0      F   сотрудник     0  112080.014102   \n",
       "2   женат / замужем                 0      M   сотрудник     0  145885.952297   \n",
       "3   женат / замужем                 0      M   сотрудник     0  267628.550329   \n",
       "4  гражданский брак                 1      F   пенсионер     0  158616.077870   \n",
       "\n",
       "                      purpose  \n",
       "0               покупка жилья  \n",
       "1     приобретение автомобиля  \n",
       "2               покупка жилья  \n",
       "3  дополнительное образование  \n",
       "4             сыграть свадьбу  "
      ]
     },
     "execution_count": 2,
     "metadata": {},
     "output_type": "execute_result"
    }
   ],
   "source": [
    "credits_data = pd.read_csv('data.csv')\n",
    "\n",
    "credits_data.info()\n",
    "credits_data.head()"
   ]
  },
  {
   "cell_type": "code",
   "execution_count": 3,
   "metadata": {},
   "outputs": [
    {
     "data": {
      "text/plain": [
       "children               0\n",
       "days_employed       2174\n",
       "dob_years              0\n",
       "education              0\n",
       "education_id           0\n",
       "family_status          0\n",
       "family_status_id       0\n",
       "gender                 0\n",
       "income_type            0\n",
       "debt                   0\n",
       "total_income        2174\n",
       "purpose                0\n",
       "dtype: int64"
      ]
     },
     "execution_count": 3,
     "metadata": {},
     "output_type": "execute_result"
    }
   ],
   "source": [
    "credits_data.isna().sum()"
   ]
  },
  {
   "cell_type": "code",
   "execution_count": 4,
   "metadata": {},
   "outputs": [
    {
     "data": {
      "text/html": [
       "<div>\n",
       "<style scoped>\n",
       "    .dataframe tbody tr th:only-of-type {\n",
       "        vertical-align: middle;\n",
       "    }\n",
       "\n",
       "    .dataframe tbody tr th {\n",
       "        vertical-align: top;\n",
       "    }\n",
       "\n",
       "    .dataframe thead th {\n",
       "        text-align: right;\n",
       "    }\n",
       "</style>\n",
       "<table border=\"1\" class=\"dataframe\">\n",
       "  <thead>\n",
       "    <tr style=\"text-align: right;\">\n",
       "      <th></th>\n",
       "      <th>children</th>\n",
       "      <th>days_employed</th>\n",
       "      <th>dob_years</th>\n",
       "      <th>education</th>\n",
       "      <th>education_id</th>\n",
       "      <th>family_status</th>\n",
       "      <th>family_status_id</th>\n",
       "      <th>gender</th>\n",
       "      <th>income_type</th>\n",
       "      <th>debt</th>\n",
       "      <th>total_income</th>\n",
       "      <th>purpose</th>\n",
       "    </tr>\n",
       "  </thead>\n",
       "  <tbody>\n",
       "    <tr>\n",
       "      <th>12</th>\n",
       "      <td>0</td>\n",
       "      <td>NaN</td>\n",
       "      <td>65</td>\n",
       "      <td>среднее</td>\n",
       "      <td>1</td>\n",
       "      <td>гражданский брак</td>\n",
       "      <td>1</td>\n",
       "      <td>M</td>\n",
       "      <td>пенсионер</td>\n",
       "      <td>0</td>\n",
       "      <td>NaN</td>\n",
       "      <td>сыграть свадьбу</td>\n",
       "    </tr>\n",
       "    <tr>\n",
       "      <th>26</th>\n",
       "      <td>0</td>\n",
       "      <td>NaN</td>\n",
       "      <td>41</td>\n",
       "      <td>среднее</td>\n",
       "      <td>1</td>\n",
       "      <td>женат / замужем</td>\n",
       "      <td>0</td>\n",
       "      <td>M</td>\n",
       "      <td>госслужащий</td>\n",
       "      <td>0</td>\n",
       "      <td>NaN</td>\n",
       "      <td>образование</td>\n",
       "    </tr>\n",
       "    <tr>\n",
       "      <th>29</th>\n",
       "      <td>0</td>\n",
       "      <td>NaN</td>\n",
       "      <td>63</td>\n",
       "      <td>среднее</td>\n",
       "      <td>1</td>\n",
       "      <td>Не женат / не замужем</td>\n",
       "      <td>4</td>\n",
       "      <td>F</td>\n",
       "      <td>пенсионер</td>\n",
       "      <td>0</td>\n",
       "      <td>NaN</td>\n",
       "      <td>строительство жилой недвижимости</td>\n",
       "    </tr>\n",
       "    <tr>\n",
       "      <th>41</th>\n",
       "      <td>0</td>\n",
       "      <td>NaN</td>\n",
       "      <td>50</td>\n",
       "      <td>среднее</td>\n",
       "      <td>1</td>\n",
       "      <td>женат / замужем</td>\n",
       "      <td>0</td>\n",
       "      <td>F</td>\n",
       "      <td>госслужащий</td>\n",
       "      <td>0</td>\n",
       "      <td>NaN</td>\n",
       "      <td>сделка с подержанным автомобилем</td>\n",
       "    </tr>\n",
       "    <tr>\n",
       "      <th>55</th>\n",
       "      <td>0</td>\n",
       "      <td>NaN</td>\n",
       "      <td>54</td>\n",
       "      <td>среднее</td>\n",
       "      <td>1</td>\n",
       "      <td>гражданский брак</td>\n",
       "      <td>1</td>\n",
       "      <td>F</td>\n",
       "      <td>пенсионер</td>\n",
       "      <td>1</td>\n",
       "      <td>NaN</td>\n",
       "      <td>сыграть свадьбу</td>\n",
       "    </tr>\n",
       "    <tr>\n",
       "      <th>...</th>\n",
       "      <td>...</td>\n",
       "      <td>...</td>\n",
       "      <td>...</td>\n",
       "      <td>...</td>\n",
       "      <td>...</td>\n",
       "      <td>...</td>\n",
       "      <td>...</td>\n",
       "      <td>...</td>\n",
       "      <td>...</td>\n",
       "      <td>...</td>\n",
       "      <td>...</td>\n",
       "      <td>...</td>\n",
       "    </tr>\n",
       "    <tr>\n",
       "      <th>21489</th>\n",
       "      <td>2</td>\n",
       "      <td>NaN</td>\n",
       "      <td>47</td>\n",
       "      <td>Среднее</td>\n",
       "      <td>1</td>\n",
       "      <td>женат / замужем</td>\n",
       "      <td>0</td>\n",
       "      <td>M</td>\n",
       "      <td>компаньон</td>\n",
       "      <td>0</td>\n",
       "      <td>NaN</td>\n",
       "      <td>сделка с автомобилем</td>\n",
       "    </tr>\n",
       "    <tr>\n",
       "      <th>21495</th>\n",
       "      <td>1</td>\n",
       "      <td>NaN</td>\n",
       "      <td>50</td>\n",
       "      <td>среднее</td>\n",
       "      <td>1</td>\n",
       "      <td>гражданский брак</td>\n",
       "      <td>1</td>\n",
       "      <td>F</td>\n",
       "      <td>сотрудник</td>\n",
       "      <td>0</td>\n",
       "      <td>NaN</td>\n",
       "      <td>свадьба</td>\n",
       "    </tr>\n",
       "    <tr>\n",
       "      <th>21497</th>\n",
       "      <td>0</td>\n",
       "      <td>NaN</td>\n",
       "      <td>48</td>\n",
       "      <td>ВЫСШЕЕ</td>\n",
       "      <td>0</td>\n",
       "      <td>женат / замужем</td>\n",
       "      <td>0</td>\n",
       "      <td>F</td>\n",
       "      <td>компаньон</td>\n",
       "      <td>0</td>\n",
       "      <td>NaN</td>\n",
       "      <td>строительство недвижимости</td>\n",
       "    </tr>\n",
       "    <tr>\n",
       "      <th>21502</th>\n",
       "      <td>1</td>\n",
       "      <td>NaN</td>\n",
       "      <td>42</td>\n",
       "      <td>среднее</td>\n",
       "      <td>1</td>\n",
       "      <td>женат / замужем</td>\n",
       "      <td>0</td>\n",
       "      <td>F</td>\n",
       "      <td>сотрудник</td>\n",
       "      <td>0</td>\n",
       "      <td>NaN</td>\n",
       "      <td>строительство жилой недвижимости</td>\n",
       "    </tr>\n",
       "    <tr>\n",
       "      <th>21510</th>\n",
       "      <td>2</td>\n",
       "      <td>NaN</td>\n",
       "      <td>28</td>\n",
       "      <td>среднее</td>\n",
       "      <td>1</td>\n",
       "      <td>женат / замужем</td>\n",
       "      <td>0</td>\n",
       "      <td>F</td>\n",
       "      <td>сотрудник</td>\n",
       "      <td>0</td>\n",
       "      <td>NaN</td>\n",
       "      <td>приобретение автомобиля</td>\n",
       "    </tr>\n",
       "  </tbody>\n",
       "</table>\n",
       "<p>2174 rows × 12 columns</p>\n",
       "</div>"
      ],
      "text/plain": [
       "       children  days_employed  dob_years education  education_id  \\\n",
       "12            0            NaN         65   среднее             1   \n",
       "26            0            NaN         41   среднее             1   \n",
       "29            0            NaN         63   среднее             1   \n",
       "41            0            NaN         50   среднее             1   \n",
       "55            0            NaN         54   среднее             1   \n",
       "...         ...            ...        ...       ...           ...   \n",
       "21489         2            NaN         47   Среднее             1   \n",
       "21495         1            NaN         50   среднее             1   \n",
       "21497         0            NaN         48    ВЫСШЕЕ             0   \n",
       "21502         1            NaN         42   среднее             1   \n",
       "21510         2            NaN         28   среднее             1   \n",
       "\n",
       "               family_status  family_status_id gender  income_type  debt  \\\n",
       "12          гражданский брак                 1      M    пенсионер     0   \n",
       "26           женат / замужем                 0      M  госслужащий     0   \n",
       "29     Не женат / не замужем                 4      F    пенсионер     0   \n",
       "41           женат / замужем                 0      F  госслужащий     0   \n",
       "55          гражданский брак                 1      F    пенсионер     1   \n",
       "...                      ...               ...    ...          ...   ...   \n",
       "21489        женат / замужем                 0      M    компаньон     0   \n",
       "21495       гражданский брак                 1      F    сотрудник     0   \n",
       "21497        женат / замужем                 0      F    компаньон     0   \n",
       "21502        женат / замужем                 0      F    сотрудник     0   \n",
       "21510        женат / замужем                 0      F    сотрудник     0   \n",
       "\n",
       "       total_income                           purpose  \n",
       "12              NaN                   сыграть свадьбу  \n",
       "26              NaN                       образование  \n",
       "29              NaN  строительство жилой недвижимости  \n",
       "41              NaN  сделка с подержанным автомобилем  \n",
       "55              NaN                   сыграть свадьбу  \n",
       "...             ...                               ...  \n",
       "21489           NaN              сделка с автомобилем  \n",
       "21495           NaN                           свадьба  \n",
       "21497           NaN        строительство недвижимости  \n",
       "21502           NaN  строительство жилой недвижимости  \n",
       "21510           NaN           приобретение автомобиля  \n",
       "\n",
       "[2174 rows x 12 columns]"
      ]
     },
     "execution_count": 4,
     "metadata": {},
     "output_type": "execute_result"
    }
   ],
   "source": [
    "credits_data[credits_data['days_employed'].isna() & credits_data['total_income'].isna()]"
   ]
  },
  {
   "cell_type": "code",
   "execution_count": 5,
   "metadata": {},
   "outputs": [],
   "source": [
    "credits_data['children'].value_counts()\n",
    "credits_data['children'] = credits_data['children'].replace(20, 2)\n",
    "credits_data['children'] = credits_data['children'].replace(-1, 1)"
   ]
  },
  {
   "cell_type": "code",
   "execution_count": 6,
   "metadata": {},
   "outputs": [
    {
     "data": {
      "text/plain": [
       "0    14149\n",
       "1     4865\n",
       "2     2131\n",
       "3      330\n",
       "4       41\n",
       "5        9\n",
       "Name: children, dtype: int64"
      ]
     },
     "execution_count": 6,
     "metadata": {},
     "output_type": "execute_result"
    }
   ],
   "source": [
    "credits_data['children'].value_counts()"
   ]
  },
  {
   "cell_type": "markdown",
   "metadata": {},
   "source": [
    "В предоставленной таблице сразу бросается в глаза одинаковое число пропущенных значений в столбцах с данными о трудовом стаже\n",
    "и доходе заемщиков. При проверке всех столбцов на неадекватные значения обнаружились отрицательные значения в столбцах `days_employed` и `children`. В столбце `days_employed` это не имеет значения, поскольку гипотезу о влиянии стажа работы на способность выплачивать кредиты мы не рассматриваем, однако исправить данные стоит. В столбце `children` также есть значение `20`, что вряд ли правда, скорее, просто опечатка. В столбце `dob_years` обнаружен 101 заемщик с возрастом 0 лет, что невозможно, в столбце `gender` есть 'XNA' — люди, не указавшие в анкете пол."
   ]
  },
  {
   "cell_type": "markdown",
   "metadata": {},
   "source": [
    "## Предобработка данных"
   ]
  },
  {
   "cell_type": "markdown",
   "metadata": {},
   "source": [
    "### Обработка пропусков"
   ]
  },
  {
   "cell_type": "markdown",
   "metadata": {},
   "source": [
    "Пропущенные значения — в столбцах days_employed и total_income (2174 шт.). Пропуски совпадают: если пропуск есть в days_employed, он будет и в total_income и наоборот. Причина для появления пропущенных значений может быть в том, что официальный доход заемщика слишком низок/высок/еще как-то иначе не подходит для одобрения кредита, поэтому некоторые люди предпочитают его не указывать.\n",
    "\n",
    "Удалять строки с пропусками не станем — их около 10% от общего числа строк. Для столбца days_employed заменим отсутствующие значения средним значением по столбцу. Для total_income заменим пропуски медианами для каждого из типов занятости. Медианы выбраны как величины, на которые возможные экстремальные значения не будут влиять так сильно, как, например, на среднее.\n",
    "\n",
    "Также есть пропуски в столбцах gender и dob_years. Строка с пропущенным значением пола всего одна. Ее отсутствие не повлияет на результаты анализа, поэтому ее можно удалить. В столбце с возрастом заменим 0 на среднее значение по столбцу.\n",
    "\n",
    "Дополнительно исправим мусор в данных столбца days_employed: отрицательные значения заменим положительными, а имеющиеся положительные пересчитаем (судя по всему, они указаны в часах, а не в днях)."
   ]
  },
  {
   "cell_type": "code",
   "execution_count": 7,
   "metadata": {},
   "outputs": [
    {
     "data": {
      "text/html": [
       "<div>\n",
       "<style scoped>\n",
       "    .dataframe tbody tr th:only-of-type {\n",
       "        vertical-align: middle;\n",
       "    }\n",
       "\n",
       "    .dataframe tbody tr th {\n",
       "        vertical-align: top;\n",
       "    }\n",
       "\n",
       "    .dataframe thead th {\n",
       "        text-align: right;\n",
       "    }\n",
       "</style>\n",
       "<table border=\"1\" class=\"dataframe\">\n",
       "  <thead>\n",
       "    <tr style=\"text-align: right;\">\n",
       "      <th></th>\n",
       "      <th>children</th>\n",
       "      <th>days_employed</th>\n",
       "      <th>dob_years</th>\n",
       "      <th>education</th>\n",
       "      <th>education_id</th>\n",
       "      <th>family_status</th>\n",
       "      <th>family_status_id</th>\n",
       "      <th>gender</th>\n",
       "      <th>income_type</th>\n",
       "      <th>debt</th>\n",
       "      <th>total_income</th>\n",
       "      <th>purpose</th>\n",
       "    </tr>\n",
       "  </thead>\n",
       "  <tbody>\n",
       "    <tr>\n",
       "      <th>0</th>\n",
       "      <td>1</td>\n",
       "      <td>8437.673028</td>\n",
       "      <td>42</td>\n",
       "      <td>высшее</td>\n",
       "      <td>0</td>\n",
       "      <td>женат / замужем</td>\n",
       "      <td>0</td>\n",
       "      <td>F</td>\n",
       "      <td>сотрудник</td>\n",
       "      <td>0</td>\n",
       "      <td>253875.639453</td>\n",
       "      <td>покупка жилья</td>\n",
       "    </tr>\n",
       "    <tr>\n",
       "      <th>1</th>\n",
       "      <td>1</td>\n",
       "      <td>4024.803754</td>\n",
       "      <td>36</td>\n",
       "      <td>среднее</td>\n",
       "      <td>1</td>\n",
       "      <td>женат / замужем</td>\n",
       "      <td>0</td>\n",
       "      <td>F</td>\n",
       "      <td>сотрудник</td>\n",
       "      <td>0</td>\n",
       "      <td>112080.014102</td>\n",
       "      <td>приобретение автомобиля</td>\n",
       "    </tr>\n",
       "    <tr>\n",
       "      <th>2</th>\n",
       "      <td>0</td>\n",
       "      <td>5623.422610</td>\n",
       "      <td>33</td>\n",
       "      <td>Среднее</td>\n",
       "      <td>1</td>\n",
       "      <td>женат / замужем</td>\n",
       "      <td>0</td>\n",
       "      <td>M</td>\n",
       "      <td>сотрудник</td>\n",
       "      <td>0</td>\n",
       "      <td>145885.952297</td>\n",
       "      <td>покупка жилья</td>\n",
       "    </tr>\n",
       "    <tr>\n",
       "      <th>3</th>\n",
       "      <td>3</td>\n",
       "      <td>4124.747207</td>\n",
       "      <td>32</td>\n",
       "      <td>среднее</td>\n",
       "      <td>1</td>\n",
       "      <td>женат / замужем</td>\n",
       "      <td>0</td>\n",
       "      <td>M</td>\n",
       "      <td>сотрудник</td>\n",
       "      <td>0</td>\n",
       "      <td>267628.550329</td>\n",
       "      <td>дополнительное образование</td>\n",
       "    </tr>\n",
       "    <tr>\n",
       "      <th>4</th>\n",
       "      <td>0</td>\n",
       "      <td>14177.753002</td>\n",
       "      <td>53</td>\n",
       "      <td>среднее</td>\n",
       "      <td>1</td>\n",
       "      <td>гражданский брак</td>\n",
       "      <td>1</td>\n",
       "      <td>F</td>\n",
       "      <td>пенсионер</td>\n",
       "      <td>0</td>\n",
       "      <td>158616.077870</td>\n",
       "      <td>сыграть свадьбу</td>\n",
       "    </tr>\n",
       "  </tbody>\n",
       "</table>\n",
       "</div>"
      ],
      "text/plain": [
       "   children  days_employed  dob_years education  education_id  \\\n",
       "0         1    8437.673028         42    высшее             0   \n",
       "1         1    4024.803754         36   среднее             1   \n",
       "2         0    5623.422610         33   Среднее             1   \n",
       "3         3    4124.747207         32   среднее             1   \n",
       "4         0   14177.753002         53   среднее             1   \n",
       "\n",
       "      family_status  family_status_id gender income_type  debt   total_income  \\\n",
       "0   женат / замужем                 0      F   сотрудник     0  253875.639453   \n",
       "1   женат / замужем                 0      F   сотрудник     0  112080.014102   \n",
       "2   женат / замужем                 0      M   сотрудник     0  145885.952297   \n",
       "3   женат / замужем                 0      M   сотрудник     0  267628.550329   \n",
       "4  гражданский брак                 1      F   пенсионер     0  158616.077870   \n",
       "\n",
       "                      purpose  \n",
       "0               покупка жилья  \n",
       "1     приобретение автомобиля  \n",
       "2               покупка жилья  \n",
       "3  дополнительное образование  \n",
       "4             сыграть свадьбу  "
      ]
     },
     "execution_count": 7,
     "metadata": {},
     "output_type": "execute_result"
    }
   ],
   "source": [
    "credits_data['total_income'] = credits_data.groupby('income_type')['total_income'].apply(lambda s: s.fillna(s.median()))\n",
    " \n",
    "credits_data = credits_data[credits_data['gender'] != 'XNA']\n",
    "\n",
    "dob_years_mean = credits_data['dob_years'].mean()\n",
    "credits_data['dob_years'].replace(0, dob_years_mean)\n",
    "\n",
    "def normalizing_function(x):\n",
    "    if x < 0:\n",
    "        return x * -1\n",
    "    return x / 24\n",
    "credits_data['days_employed'] = credits_data['days_employed'].apply(normalizing_function)\n",
    "\n",
    "days_employed_mean = credits_data['days_employed'].mean()\n",
    "credits_data['days_employed'] = credits_data['days_employed'].fillna(value = days_employed_mean)\n",
    "\n",
    "credits_data.head()"
   ]
  },
  {
   "cell_type": "markdown",
   "metadata": {},
   "source": [
    "Стоит изменить тип данных в столбцах `days_employed` и `total_income` на «int»."
   ]
  },
  {
   "cell_type": "markdown",
   "metadata": {},
   "source": [
    "### Замена типа данных"
   ]
  },
  {
   "cell_type": "code",
   "execution_count": 8,
   "metadata": {
    "scrolled": true
   },
   "outputs": [
    {
     "name": "stdout",
     "output_type": "stream",
     "text": [
      "<class 'pandas.core.frame.DataFrame'>\n",
      "Int64Index: 21524 entries, 0 to 21524\n",
      "Data columns (total 12 columns):\n",
      " #   Column            Non-Null Count  Dtype \n",
      "---  ------            --------------  ----- \n",
      " 0   children          21524 non-null  int64 \n",
      " 1   days_employed     21524 non-null  int32 \n",
      " 2   dob_years         21524 non-null  int64 \n",
      " 3   education         21524 non-null  object\n",
      " 4   education_id      21524 non-null  int64 \n",
      " 5   family_status     21524 non-null  object\n",
      " 6   family_status_id  21524 non-null  int64 \n",
      " 7   gender            21524 non-null  object\n",
      " 8   income_type       21524 non-null  object\n",
      " 9   debt              21524 non-null  int64 \n",
      " 10  total_income      21524 non-null  int32 \n",
      " 11  purpose           21524 non-null  object\n",
      "dtypes: int32(2), int64(5), object(5)\n",
      "memory usage: 2.0+ MB\n"
     ]
    }
   ],
   "source": [
    "credits_data['total_income'] = credits_data['total_income'].astype('int')\n",
    "credits_data['days_employed'] = credits_data['days_employed'].astype('int')\n",
    "\n",
    "credits_data.info()"
   ]
  },
  {
   "cell_type": "markdown",
   "metadata": {},
   "source": [
    "Можно переходить к обработке дубликатов. Перед удалением дубликатов приведем к одному регистру текст в столбце `education`."
   ]
  },
  {
   "cell_type": "markdown",
   "metadata": {},
   "source": [
    "### Обработка дубликатов"
   ]
  },
  {
   "cell_type": "code",
   "execution_count": 9,
   "metadata": {},
   "outputs": [
    {
     "data": {
      "text/plain": [
       "54"
      ]
     },
     "execution_count": 9,
     "metadata": {},
     "output_type": "execute_result"
    }
   ],
   "source": [
    "credits_data.duplicated().sum()"
   ]
  },
  {
   "cell_type": "code",
   "execution_count": 10,
   "metadata": {},
   "outputs": [
    {
     "data": {
      "text/plain": [
       "71"
      ]
     },
     "execution_count": 10,
     "metadata": {},
     "output_type": "execute_result"
    }
   ],
   "source": [
    "credits_data['education'] = credits_data['education'].str.lower()\n",
    "credits_data.duplicated().sum()"
   ]
  },
  {
   "cell_type": "code",
   "execution_count": 11,
   "metadata": {},
   "outputs": [
    {
     "data": {
      "text/plain": [
       "среднее                15233\n",
       "высшее                  5260\n",
       "неоконченное высшее      743\n",
       "начальное                282\n",
       "ученая степень             6\n",
       "Name: education, dtype: int64"
      ]
     },
     "execution_count": 11,
     "metadata": {},
     "output_type": "execute_result"
    }
   ],
   "source": [
    "credits_data['education'].value_counts()"
   ]
  },
  {
   "cell_type": "code",
   "execution_count": 12,
   "metadata": {},
   "outputs": [
    {
     "data": {
      "text/plain": [
       "0"
      ]
     },
     "execution_count": 12,
     "metadata": {},
     "output_type": "execute_result"
    }
   ],
   "source": [
    "credits_data.drop_duplicates(subset=None, keep='first', inplace=True)\n",
    "credits_data.duplicated().sum()"
   ]
  },
  {
   "cell_type": "markdown",
   "metadata": {},
   "source": [
    "Изначально в таблице было 54 дубликата. Возможно, некоторые заемщики предпринимали несколько попыток взять один и тот же кредит и поэтому отправляли одну и ту же анкету, либо столкнулись с какой-нибудь технической ошибкой на сайте банка (если данные вводились через сайт), и данные были отправлены, но заемщик об этом не знал и заполнил анкету снова.\n",
    "\n",
    "После приведения регистров к одному виду  дубликатов стало 71. Дубликаты удалены, но в столбце `purpose` имеются значения, одинаковые по смыслу, но написанные по-разному, вероятно, потому что графа «причина» — это строчка, а не выбор варианта ответа, и нет единого свода правил, что писать, если причина, например, образование: «образование», «получить образование» или «на образование». Необходима лемматизация."
   ]
  },
  {
   "cell_type": "markdown",
   "metadata": {},
   "source": [
    "### Лемматизация"
   ]
  },
  {
   "cell_type": "code",
   "execution_count": 13,
   "metadata": {},
   "outputs": [
    {
     "data": {
      "text/plain": [
       "array(['покупка жильё', 'приобретение автомобиль',\n",
       "       'дополнительное образование', 'сыграть свадьба',\n",
       "       'операции с жилие', 'образование', 'на проведение свадьба',\n",
       "       'покупка жилья для семья', 'покупка недвижимость',\n",
       "       'покупка коммерческой недвижимость', 'покупка жилой недвижимость',\n",
       "       'строительство собственной недвижимость', 'недвижимость',\n",
       "       'строительство недвижимость', 'на покупку подержанного автомобиль',\n",
       "       'на покупку своего автомобиль',\n",
       "       'операции с коммерческой недвижимость',\n",
       "       'строительство жилой недвижимость', 'жильё',\n",
       "       'операции со своей недвижимость', 'автомобиль',\n",
       "       'заняться образование', 'сделка с подержанным автомобиль',\n",
       "       'получение образование', 'свадьба',\n",
       "       'получение дополнительного образование', 'покупка своего жильё',\n",
       "       'операции с недвижимость', 'получение высшего образование',\n",
       "       'свой автомобиль', 'сделка с автомобиль', 'профильное образование',\n",
       "       'высшее образование', 'покупка жилья для сдача',\n",
       "       'на покупку автомобиль', 'ремонт жильё',\n",
       "       'заняться высшим образование'], dtype=object)"
      ]
     },
     "execution_count": 13,
     "metadata": {},
     "output_type": "execute_result"
    }
   ],
   "source": [
    "credits_data['purpose'] = credits_data['purpose'].apply(lambda x: morph.parse(x)[0].normal_form)\n",
    "                          \n",
    "credits_data['purpose'].unique()"
   ]
  },
  {
   "cell_type": "code",
   "execution_count": 14,
   "metadata": {},
   "outputs": [
    {
     "data": {
      "text/html": [
       "<div>\n",
       "<style scoped>\n",
       "    .dataframe tbody tr th:only-of-type {\n",
       "        vertical-align: middle;\n",
       "    }\n",
       "\n",
       "    .dataframe tbody tr th {\n",
       "        vertical-align: top;\n",
       "    }\n",
       "\n",
       "    .dataframe thead th {\n",
       "        text-align: right;\n",
       "    }\n",
       "</style>\n",
       "<table border=\"1\" class=\"dataframe\">\n",
       "  <thead>\n",
       "    <tr style=\"text-align: right;\">\n",
       "      <th></th>\n",
       "      <th>children</th>\n",
       "      <th>days_employed</th>\n",
       "      <th>dob_years</th>\n",
       "      <th>education</th>\n",
       "      <th>education_id</th>\n",
       "      <th>family_status</th>\n",
       "      <th>family_status_id</th>\n",
       "      <th>gender</th>\n",
       "      <th>income_type</th>\n",
       "      <th>debt</th>\n",
       "      <th>total_income</th>\n",
       "      <th>purpose</th>\n",
       "    </tr>\n",
       "  </thead>\n",
       "  <tbody>\n",
       "    <tr>\n",
       "      <th>0</th>\n",
       "      <td>1</td>\n",
       "      <td>8437</td>\n",
       "      <td>42</td>\n",
       "      <td>высшее</td>\n",
       "      <td>0</td>\n",
       "      <td>женат / замужем</td>\n",
       "      <td>0</td>\n",
       "      <td>F</td>\n",
       "      <td>сотрудник</td>\n",
       "      <td>0</td>\n",
       "      <td>253875</td>\n",
       "      <td>недвижимость</td>\n",
       "    </tr>\n",
       "    <tr>\n",
       "      <th>1</th>\n",
       "      <td>1</td>\n",
       "      <td>4024</td>\n",
       "      <td>36</td>\n",
       "      <td>среднее</td>\n",
       "      <td>1</td>\n",
       "      <td>женат / замужем</td>\n",
       "      <td>0</td>\n",
       "      <td>F</td>\n",
       "      <td>сотрудник</td>\n",
       "      <td>0</td>\n",
       "      <td>112080</td>\n",
       "      <td>автомобиль</td>\n",
       "    </tr>\n",
       "    <tr>\n",
       "      <th>2</th>\n",
       "      <td>0</td>\n",
       "      <td>5623</td>\n",
       "      <td>33</td>\n",
       "      <td>среднее</td>\n",
       "      <td>1</td>\n",
       "      <td>женат / замужем</td>\n",
       "      <td>0</td>\n",
       "      <td>M</td>\n",
       "      <td>сотрудник</td>\n",
       "      <td>0</td>\n",
       "      <td>145885</td>\n",
       "      <td>недвижимость</td>\n",
       "    </tr>\n",
       "    <tr>\n",
       "      <th>3</th>\n",
       "      <td>3</td>\n",
       "      <td>4124</td>\n",
       "      <td>32</td>\n",
       "      <td>среднее</td>\n",
       "      <td>1</td>\n",
       "      <td>женат / замужем</td>\n",
       "      <td>0</td>\n",
       "      <td>M</td>\n",
       "      <td>сотрудник</td>\n",
       "      <td>0</td>\n",
       "      <td>267628</td>\n",
       "      <td>образование</td>\n",
       "    </tr>\n",
       "    <tr>\n",
       "      <th>4</th>\n",
       "      <td>0</td>\n",
       "      <td>14177</td>\n",
       "      <td>53</td>\n",
       "      <td>среднее</td>\n",
       "      <td>1</td>\n",
       "      <td>гражданский брак</td>\n",
       "      <td>1</td>\n",
       "      <td>F</td>\n",
       "      <td>пенсионер</td>\n",
       "      <td>0</td>\n",
       "      <td>158616</td>\n",
       "      <td>свадьба</td>\n",
       "    </tr>\n",
       "  </tbody>\n",
       "</table>\n",
       "</div>"
      ],
      "text/plain": [
       "   children  days_employed  dob_years education  education_id  \\\n",
       "0         1           8437         42    высшее             0   \n",
       "1         1           4024         36   среднее             1   \n",
       "2         0           5623         33   среднее             1   \n",
       "3         3           4124         32   среднее             1   \n",
       "4         0          14177         53   среднее             1   \n",
       "\n",
       "      family_status  family_status_id gender income_type  debt  total_income  \\\n",
       "0   женат / замужем                 0      F   сотрудник     0        253875   \n",
       "1   женат / замужем                 0      F   сотрудник     0        112080   \n",
       "2   женат / замужем                 0      M   сотрудник     0        145885   \n",
       "3   женат / замужем                 0      M   сотрудник     0        267628   \n",
       "4  гражданский брак                 1      F   пенсионер     0        158616   \n",
       "\n",
       "        purpose  \n",
       "0  недвижимость  \n",
       "1    автомобиль  \n",
       "2  недвижимость  \n",
       "3   образование  \n",
       "4       свадьба  "
      ]
     },
     "execution_count": 14,
     "metadata": {},
     "output_type": "execute_result"
    }
   ],
   "source": [
    "def new_purposes(list):\n",
    "    if 'жилье' in list or 'жильё' in list or 'жилие' in list or 'жилья' in list or 'недвижимость' in list:\n",
    "        return 'недвижимость'\n",
    "    if 'автомобиль' in list:\n",
    "        return 'автомобиль'\n",
    "    if 'образование' in list:\n",
    "        return 'образование'\n",
    "    if 'свадьба' in list:\n",
    "        return 'свадьба'\n",
    "    \n",
    "credits_data['purpose'] = credits_data['purpose'].apply(new_purposes)\n",
    "\n",
    "credits_data.head()"
   ]
  },
  {
   "cell_type": "markdown",
   "metadata": {},
   "source": [
    "### Категоризация данных"
   ]
  },
  {
   "cell_type": "code",
   "execution_count": 15,
   "metadata": {},
   "outputs": [
    {
     "name": "stdout",
     "output_type": "stream",
     "text": [
      "Процент должников среди заемщиков: 8.12\n"
     ]
    }
   ],
   "source": [
    "debt_alert = credits_data[(credits_data['debt'] == 1)].count() / credits_data['debt'].count()\n",
    "print('Процент должников среди заемщиков:', round(debt_alert['debt'] * 100, 2))"
   ]
  },
  {
   "cell_type": "markdown",
   "metadata": {},
   "source": [
    "Данные категоризированы по одному признаку: возврат/невозврат долгов банку.\n",
    "Вычисления показали, что больше 8% заемщиков не возвращают кредит в срок. Влияние разных факторов на этот показатель проверим далее."
   ]
  },
  {
   "cell_type": "markdown",
   "metadata": {},
   "source": [
    "## Анализ данных"
   ]
  },
  {
   "cell_type": "markdown",
   "metadata": {},
   "source": [
    "- Есть ли зависимость между наличием детей и возвратом кредита в срок?"
   ]
  },
  {
   "cell_type": "markdown",
   "metadata": {},
   "source": [
    "Разделим заемщиков в столбце `children` на 3 подгруппы: бездетные, малодетные и многодетные. Далее для каждой подгруппы узнаем процент заемщиков, имеющих задолженности по кредитам."
   ]
  },
  {
   "cell_type": "code",
   "execution_count": 16,
   "metadata": {},
   "outputs": [
    {
     "name": "stdout",
     "output_type": "stream",
     "text": [
      "Процент заемщиков-должников без детей: 7.54\n",
      "Процент малодетных заемщиков-должников: 9.27\n",
      "Процент многодетных заемщиков-должников: 8.16\n"
     ]
    }
   ],
   "source": [
    "no_children = credits_data.loc[credits_data.loc[:,'children'] == 0]\n",
    "print('Процент заемщиков-должников без детей:', round(no_children.groupby('children')['debt'].mean()[0] * 100, 2))\n",
    "\n",
    "def children_amount(children):\n",
    "    if 1 <= children <= 2:\n",
    "        return 'малодетные'\n",
    "    if 2 < children <= 5:\n",
    "        return 'многодетные'\n",
    "    return 'нет детей'\n",
    "credits_data['children_amount'] = credits_data['children'].apply(children_amount)\n",
    "\n",
    "few_children = credits_data.loc[credits_data.loc[:,'children_amount'] == 'малодетные']\n",
    "many_children = credits_data.loc[credits_data.loc[:,'children_amount'] == 'многодетные']\n",
    "\n",
    "print('Процент малодетных заемщиков-должников:', round(few_children.groupby('children_amount')['debt'].mean()[0] * 100, 2))\n",
    "print('Процент многодетных заемщиков-должников:', round(many_children.groupby('children_amount')['debt'].mean()[0] * 100, 2))"
   ]
  },
  {
   "cell_type": "markdown",
   "metadata": {},
   "source": [
    "Процент заемщиков-должников среди бездетных немного ниже, чем у заемщиков с детьми. При этом малодетных дожников немного меньше, чем многодетных."
   ]
  },
  {
   "cell_type": "markdown",
   "metadata": {},
   "source": [
    "- Есть ли зависимость между семейным положением и возвратом кредита в срок?"
   ]
  },
  {
   "cell_type": "code",
   "execution_count": 17,
   "metadata": {},
   "outputs": [
    {
     "data": {
      "text/plain": [
       "family_status\n",
       "Не женат / не замужем    9.750890\n",
       "в разводе                7.112971\n",
       "вдовец / вдова           6.569343\n",
       "гражданский брак         9.349398\n",
       "женат / замужем          7.545182\n",
       "Name: debt, dtype: float64"
      ]
     },
     "execution_count": 17,
     "metadata": {},
     "output_type": "execute_result"
    }
   ],
   "source": [
    "credits_data.groupby('family_status')['debt'].mean() * 100"
   ]
  },
  {
   "cell_type": "markdown",
   "metadata": {},
   "source": [
    "Заемщики, не состоящие в браке и заемщики, состоящие в гражданском браке, чаще других не возвращают кредиты в срок. Разведенные заемщики и вдовы/вдовцы имеют меньше всех задолженностей по кредитам."
   ]
  },
  {
   "cell_type": "markdown",
   "metadata": {},
   "source": [
    "- Есть ли зависимость между уровнем дохода и возвратом кредита в срок?"
   ]
  },
  {
   "cell_type": "markdown",
   "metadata": {},
   "source": [
    "Чтобы понять, влияет ли уровень дохода на возврат кредита в срок, сначала выделим уровни дохода. Затем выясним процент неплательщиков в каждой из подгрупп внутри столбца `income_level`."
   ]
  },
  {
   "cell_type": "code",
   "execution_count": 18,
   "metadata": {},
   "outputs": [
    {
     "name": "stdout",
     "output_type": "stream",
     "text": [
      "Процент должников среди заемщиков с доходом ниже среднего 7.960477255779269\n",
      "Процент должников среди заемщиков со средним доходом 8.838336751818012\n",
      "Процент должников среди заемщиков с доходом выше среднего 8.52134999067686\n",
      "Процент должников среди заемщиков с высоким доходом 7.1415252657094905\n"
     ]
    }
   ],
   "source": [
    "credits_data = credits_data.sort_values(by = 'total_income')\n",
    "credits_data['income_level'] = pd.qcut(range(21453), 4, labels=['ниже среднего', 'средний', 'выше среднего', 'высокий'])\n",
    "low_income = credits_data.loc[credits_data.loc[:,'income_level'] == 'ниже среднего']\n",
    "avg_income = credits_data.loc[credits_data.loc[:,'income_level'] == 'средний']\n",
    "high_avg_income = credits_data.loc[credits_data.loc[:,'income_level'] == 'выше среднего']\n",
    "high_income = credits_data.loc[credits_data.loc[:,'income_level'] == 'высокий']\n",
    "\n",
    "print('Процент должников среди заемщиков с доходом ниже среднего', low_income.groupby('income_level')['debt'].mean()[0] * 100)\n",
    "print('Процент должников среди заемщиков со средним доходом', avg_income.groupby('income_level')['debt'].mean()[1] * 100)\n",
    "print('Процент должников среди заемщиков с доходом выше среднего', high_avg_income.groupby('income_level')['debt'].mean()[2] * 100)\n",
    "print('Процент должников среди заемщиков с высоким доходом', high_income.groupby('income_level')['debt'].mean()[3] * 100)"
   ]
  },
  {
   "cell_type": "markdown",
   "metadata": {},
   "source": [
    "Самый высокий процент должников по кредитам — среди заемщиков со средним уровнем дохода, самый низкий — у заемщиков с высоким уровнем дохода. Логично."
   ]
  },
  {
   "cell_type": "markdown",
   "metadata": {},
   "source": [
    "- Как разные цели кредита влияют на его возврат в срок?"
   ]
  },
  {
   "cell_type": "code",
   "execution_count": 19,
   "metadata": {},
   "outputs": [
    {
     "data": {
      "text/plain": [
       "purpose\n",
       "автомобиль      9.359034\n",
       "недвижимость    7.234043\n",
       "образование     9.220035\n",
       "свадьба         8.003442\n",
       "Name: debt, dtype: float64"
      ]
     },
     "execution_count": 19,
     "metadata": {},
     "output_type": "execute_result"
    }
   ],
   "source": [
    "credits_data.groupby('purpose')['debt'].mean() * 100"
   ]
  },
  {
   "cell_type": "markdown",
   "metadata": {},
   "source": [
    "Реже всех гасят кредиты на автомобили и образование, чаще всех — на недвижимость. Кредиты на учебу берут студенты, у них может не быть достаточного постоянного дохода — отсюда просрочки. На недвижимость кредиты взять сложнее, банки куда более тщательно проверяют доходы и кредитную историю заемщиков кредитов на несколько миллионов рублей, да и берут их, в основном, люди, твердо стоящие на ногах. Автомобили же помимо собственной стоимости требуют массу дополнительных затрат (бензин, ТО, страховка, ремонт, штрафы и многое другое), это может быть прчиной такого высокого процента невозвратов кредитов."
   ]
  },
  {
   "cell_type": "markdown",
   "metadata": {},
   "source": [
    "## Общий вывод"
   ]
  },
  {
   "cell_type": "markdown",
   "metadata": {},
   "source": [
    "***Резюмируем:***\n",
    "\n",
    "_Есть ли зависимость между наличием детей и возвратом кредита в срок?_\n",
    "\n",
    "Есть, небольшая. Среди заемщиков с детьми в среднем на 1-2% больше должников, чем среди бездетных.\n",
    "\n",
    "_Есть ли зависимость между семейным положением и возвратом кредита в срок?_\n",
    "\n",
    "Есть. Неженатые/незамужние и состоящие в гражданском браке заемщики на 2% чаще не выплачивают кредит вовремя, чем женатые/замужние, и на 3% чаще, чем разведенные заемщики и вдовы/вдовцы.\n",
    "\n",
    "_Есть ли зависимость между уровнем дохода и возвратом кредита в срок?_\n",
    "\n",
    "Есть, небольшая. Заемщики с высоким уровнем дохода платят по кредитам лучше всех.\n",
    "\n",
    "_Как разные цели кредита влияют на его возврат в срок?_\n",
    "\n",
    "Лучше всех выплачиваются кредиты на недвижимость. Чуть хуже — на свадьбу. Неохотнее всего люди платят по кредитам на автомобили и образование."
   ]
  }
 ],
 "metadata": {
  "ExecuteTimeLog": [
   {
    "duration": 2333,
    "start_time": "2021-08-22T10:51:50.894Z"
   },
   {
    "duration": 2089,
    "start_time": "2021-08-22T10:52:25.908Z"
   },
   {
    "duration": 1692,
    "start_time": "2021-08-22T10:52:44.088Z"
   },
   {
    "duration": 1751,
    "start_time": "2021-08-22T10:54:25.358Z"
   },
   {
    "duration": 2019,
    "start_time": "2021-08-22T10:54:38.968Z"
   },
   {
    "duration": 46,
    "start_time": "2021-08-22T14:41:40.220Z"
   },
   {
    "duration": 2929,
    "start_time": "2021-08-22T14:43:22.010Z"
   },
   {
    "duration": 3295,
    "start_time": "2021-08-22T14:43:42.998Z"
   },
   {
    "duration": 39,
    "start_time": "2021-08-22T14:54:26.812Z"
   },
   {
    "duration": 38,
    "start_time": "2021-08-22T14:54:42.771Z"
   },
   {
    "duration": 33,
    "start_time": "2021-08-22T14:54:44.687Z"
   },
   {
    "duration": 2842,
    "start_time": "2021-08-22T14:55:18.424Z"
   },
   {
    "duration": 34,
    "start_time": "2021-08-22T14:55:56.340Z"
   },
   {
    "duration": 607,
    "start_time": "2021-08-22T14:56:11.572Z"
   },
   {
    "duration": 36,
    "start_time": "2021-08-22T14:56:12.181Z"
   },
   {
    "duration": 33,
    "start_time": "2021-08-22T15:02:19.828Z"
   },
   {
    "duration": 51,
    "start_time": "2021-08-22T15:30:44.778Z"
   },
   {
    "duration": 39,
    "start_time": "2021-08-22T15:30:48.251Z"
   },
   {
    "duration": 36,
    "start_time": "2021-08-22T15:31:51.904Z"
   },
   {
    "duration": 35,
    "start_time": "2021-08-22T15:36:20.997Z"
   },
   {
    "duration": 630,
    "start_time": "2021-08-22T15:48:48.086Z"
   },
   {
    "duration": 54,
    "start_time": "2021-08-22T15:48:57.577Z"
   },
   {
    "duration": 59,
    "start_time": "2021-08-22T15:53:52.874Z"
   },
   {
    "duration": 22,
    "start_time": "2021-08-22T17:31:01.943Z"
   },
   {
    "duration": 28,
    "start_time": "2021-08-22T17:31:27.715Z"
   },
   {
    "duration": 651,
    "start_time": "2021-08-22T17:32:03.763Z"
   },
   {
    "duration": 29,
    "start_time": "2021-08-22T17:32:06.227Z"
   },
   {
    "duration": 625,
    "start_time": "2021-08-22T17:33:22.464Z"
   },
   {
    "duration": 15,
    "start_time": "2021-08-22T17:33:23.091Z"
   },
   {
    "duration": 55,
    "start_time": "2021-08-22T17:50:15.209Z"
   },
   {
    "duration": 620,
    "start_time": "2021-08-22T17:51:48.781Z"
   },
   {
    "duration": 16,
    "start_time": "2021-08-22T17:51:49.403Z"
   },
   {
    "duration": 55,
    "start_time": "2021-08-22T17:53:30.730Z"
   },
   {
    "duration": 586,
    "start_time": "2021-08-22T17:54:13.608Z"
   },
   {
    "duration": 14,
    "start_time": "2021-08-22T17:54:14.196Z"
   },
   {
    "duration": 910,
    "start_time": "2021-08-23T10:30:14.284Z"
   },
   {
    "duration": 35,
    "start_time": "2021-08-23T10:32:37.775Z"
   },
   {
    "duration": 19,
    "start_time": "2021-08-23T10:46:34.079Z"
   },
   {
    "duration": 41,
    "start_time": "2021-08-23T10:47:17.445Z"
   },
   {
    "duration": 30,
    "start_time": "2021-08-23T10:54:23.267Z"
   },
   {
    "duration": 30,
    "start_time": "2021-08-23T10:56:07.253Z"
   },
   {
    "duration": 32,
    "start_time": "2021-08-23T10:56:17.981Z"
   },
   {
    "duration": 29,
    "start_time": "2021-08-23T10:56:29.591Z"
   },
   {
    "duration": 30,
    "start_time": "2021-08-23T10:56:38.409Z"
   },
   {
    "duration": 10,
    "start_time": "2021-08-23T11:02:04.418Z"
   },
   {
    "duration": 36,
    "start_time": "2021-08-23T11:04:31.859Z"
   },
   {
    "duration": 52,
    "start_time": "2021-08-23T11:04:51.041Z"
   },
   {
    "duration": 62,
    "start_time": "2021-08-23T11:05:42.209Z"
   },
   {
    "duration": 10,
    "start_time": "2021-08-23T11:06:32.695Z"
   },
   {
    "duration": 25,
    "start_time": "2021-08-23T11:07:55.820Z"
   },
   {
    "duration": 75,
    "start_time": "2021-08-23T11:08:13.927Z"
   },
   {
    "duration": 53,
    "start_time": "2021-08-23T11:09:13.836Z"
   },
   {
    "duration": 969,
    "start_time": "2021-08-23T11:09:36.943Z"
   },
   {
    "duration": 109,
    "start_time": "2021-08-23T11:09:46.849Z"
   },
   {
    "duration": 415,
    "start_time": "2021-08-23T11:09:50.916Z"
   },
   {
    "duration": 1294,
    "start_time": "2021-08-23T11:11:18.151Z"
   },
   {
    "duration": 54,
    "start_time": "2021-08-23T11:11:33.000Z"
   },
   {
    "duration": 322,
    "start_time": "2021-08-23T11:11:45.106Z"
   },
   {
    "duration": 53,
    "start_time": "2021-08-23T11:11:55.122Z"
   },
   {
    "duration": 49,
    "start_time": "2021-08-23T11:12:12.752Z"
   },
   {
    "duration": 51,
    "start_time": "2021-08-23T11:13:14.110Z"
   },
   {
    "duration": 50,
    "start_time": "2021-08-23T11:13:24.858Z"
   },
   {
    "duration": 330,
    "start_time": "2021-08-23T11:14:32.203Z"
   },
   {
    "duration": 117,
    "start_time": "2021-08-23T11:19:10.328Z"
   },
   {
    "duration": 340,
    "start_time": "2021-08-23T11:19:32.472Z"
   },
   {
    "duration": 79,
    "start_time": "2021-08-23T11:19:48.817Z"
   },
   {
    "duration": 79,
    "start_time": "2021-08-23T11:20:38.803Z"
   },
   {
    "duration": 72,
    "start_time": "2021-08-23T11:21:43.543Z"
   },
   {
    "duration": 51,
    "start_time": "2021-08-23T11:22:18.372Z"
   },
   {
    "duration": 51,
    "start_time": "2021-08-23T11:22:23.484Z"
   },
   {
    "duration": 50,
    "start_time": "2021-08-23T11:22:40.589Z"
   },
   {
    "duration": 845,
    "start_time": "2021-08-23T11:22:52.819Z"
   },
   {
    "duration": 28,
    "start_time": "2021-08-23T11:22:53.780Z"
   },
   {
    "duration": 5,
    "start_time": "2021-08-23T11:22:53.811Z"
   },
   {
    "duration": 36,
    "start_time": "2021-08-23T11:22:53.820Z"
   },
   {
    "duration": 34,
    "start_time": "2021-08-23T11:23:51.376Z"
   },
   {
    "duration": 25,
    "start_time": "2021-08-23T11:24:05.530Z"
   },
   {
    "duration": 24,
    "start_time": "2021-08-23T11:24:20.841Z"
   },
   {
    "duration": 104,
    "start_time": "2021-08-23T11:26:12.984Z"
   },
   {
    "duration": 76,
    "start_time": "2021-08-23T11:26:19.023Z"
   },
   {
    "duration": 405,
    "start_time": "2021-08-23T11:47:06.361Z"
   },
   {
    "duration": 1353,
    "start_time": "2021-08-23T11:47:24.706Z"
   },
   {
    "duration": 337,
    "start_time": "2021-08-23T11:51:54.790Z"
   },
   {
    "duration": 9812,
    "start_time": "2021-08-23T11:52:31.359Z"
   },
   {
    "duration": 877,
    "start_time": "2021-08-23T11:52:52.167Z"
   },
   {
    "duration": 26,
    "start_time": "2021-08-23T11:52:53.046Z"
   },
   {
    "duration": 49,
    "start_time": "2021-08-23T11:52:53.075Z"
   },
   {
    "duration": 65,
    "start_time": "2021-08-23T11:52:53.127Z"
   },
   {
    "duration": 8783,
    "start_time": "2021-08-23T11:52:53.195Z"
   },
   {
    "duration": 918,
    "start_time": "2021-08-23T11:53:56.280Z"
   },
   {
    "duration": 6346,
    "start_time": "2021-08-23T11:54:09.300Z"
   },
   {
    "duration": 335,
    "start_time": "2021-08-23T11:54:27.535Z"
   },
   {
    "duration": 373,
    "start_time": "2021-08-23T11:58:55.351Z"
   },
   {
    "duration": 357,
    "start_time": "2021-08-23T12:00:32.155Z"
   },
   {
    "duration": 316,
    "start_time": "2021-08-23T12:01:06.478Z"
   },
   {
    "duration": 333,
    "start_time": "2021-08-23T12:01:49.706Z"
   },
   {
    "duration": 322,
    "start_time": "2021-08-23T12:02:20.707Z"
   },
   {
    "duration": 109,
    "start_time": "2021-08-23T12:02:38.578Z"
   },
   {
    "duration": 6648,
    "start_time": "2021-08-23T12:03:08.524Z"
   },
   {
    "duration": 339,
    "start_time": "2021-08-23T12:06:10.744Z"
   },
   {
    "duration": 315,
    "start_time": "2021-08-23T12:06:14.317Z"
   },
   {
    "duration": 924,
    "start_time": "2021-08-23T12:06:22.174Z"
   },
   {
    "duration": 340,
    "start_time": "2021-08-23T12:09:55.730Z"
   },
   {
    "duration": 372,
    "start_time": "2021-08-23T12:14:08.630Z"
   },
   {
    "duration": 300,
    "start_time": "2021-08-23T12:14:28.433Z"
   },
   {
    "duration": 767,
    "start_time": "2021-08-23T12:15:36.768Z"
   },
   {
    "duration": 905,
    "start_time": "2021-08-23T12:16:00.965Z"
   },
   {
    "duration": 442,
    "start_time": "2021-08-23T12:16:07.156Z"
   },
   {
    "duration": 194,
    "start_time": "2021-08-23T12:24:24.865Z"
   },
   {
    "duration": 419,
    "start_time": "2021-08-23T12:41:23.354Z"
   },
   {
    "duration": 397,
    "start_time": "2021-08-23T12:41:45.805Z"
   },
   {
    "duration": 310,
    "start_time": "2021-08-23T12:41:59.325Z"
   },
   {
    "duration": 8078,
    "start_time": "2021-08-23T12:43:59.180Z"
   },
   {
    "duration": 293,
    "start_time": "2021-08-23T12:44:23.272Z"
   },
   {
    "duration": 8357,
    "start_time": "2021-08-23T12:44:30.095Z"
   },
   {
    "duration": 7004,
    "start_time": "2021-08-23T12:44:52.668Z"
   },
   {
    "duration": 519,
    "start_time": "2021-08-23T12:45:27.367Z"
   },
   {
    "duration": 6973,
    "start_time": "2021-08-23T12:45:33.617Z"
   },
   {
    "duration": 318,
    "start_time": "2021-08-23T12:47:22.993Z"
   },
   {
    "duration": 6618,
    "start_time": "2021-08-23T12:48:40.946Z"
   },
   {
    "duration": 6637,
    "start_time": "2021-08-23T12:49:05.509Z"
   },
   {
    "duration": 299,
    "start_time": "2021-08-23T12:54:27.810Z"
   },
   {
    "duration": 361,
    "start_time": "2021-08-23T12:55:00.922Z"
   },
   {
    "duration": 343,
    "start_time": "2021-08-23T12:55:10.403Z"
   },
   {
    "duration": 70,
    "start_time": "2021-08-23T13:05:29.717Z"
   },
   {
    "duration": 71,
    "start_time": "2021-08-23T13:11:52.218Z"
   },
   {
    "duration": 81,
    "start_time": "2021-08-23T13:13:58.807Z"
   },
   {
    "duration": 69,
    "start_time": "2021-08-23T13:14:03.912Z"
   },
   {
    "duration": 66,
    "start_time": "2021-08-23T13:14:18.338Z"
   },
   {
    "duration": 77,
    "start_time": "2021-08-23T13:14:31.911Z"
   },
   {
    "duration": 80,
    "start_time": "2021-08-23T13:15:21.705Z"
   },
   {
    "duration": 71,
    "start_time": "2021-08-23T13:15:31.535Z"
   },
   {
    "duration": 69,
    "start_time": "2021-08-23T13:15:36.330Z"
   },
   {
    "duration": 72,
    "start_time": "2021-08-23T13:15:46.870Z"
   },
   {
    "duration": 76,
    "start_time": "2021-08-23T13:18:27.596Z"
   },
   {
    "duration": 978,
    "start_time": "2021-08-23T13:20:34.870Z"
   },
   {
    "duration": 1195,
    "start_time": "2021-08-23T13:20:48.554Z"
   },
   {
    "duration": 1457,
    "start_time": "2021-08-23T13:20:56.923Z"
   },
   {
    "duration": 29574284,
    "start_time": "2021-08-23T05:08:04.099Z"
   },
   {
    "duration": 29574281,
    "start_time": "2021-08-23T05:08:04.104Z"
   },
   {
    "duration": 29574247,
    "start_time": "2021-08-23T05:08:04.140Z"
   },
   {
    "duration": 29574245,
    "start_time": "2021-08-23T05:08:04.144Z"
   },
   {
    "duration": 79,
    "start_time": "2021-08-23T13:21:19.039Z"
   },
   {
    "duration": 1807,
    "start_time": "2021-08-23T13:21:29.095Z"
   },
   {
    "duration": 70,
    "start_time": "2021-08-23T13:21:41.564Z"
   },
   {
    "duration": 854,
    "start_time": "2021-08-23T13:23:43.809Z"
   },
   {
    "duration": 25,
    "start_time": "2021-08-23T13:23:44.882Z"
   },
   {
    "duration": 43,
    "start_time": "2021-08-23T13:23:44.910Z"
   },
   {
    "duration": 68,
    "start_time": "2021-08-23T13:23:44.957Z"
   },
   {
    "duration": 427,
    "start_time": "2021-08-23T13:23:45.028Z"
   },
   {
    "duration": 20,
    "start_time": "2021-08-23T13:26:12.335Z"
   },
   {
    "duration": 4615,
    "start_time": "2021-08-23T13:30:55.185Z"
   },
   {
    "duration": 63,
    "start_time": "2021-08-23T13:40:36.600Z"
   },
   {
    "duration": 5303,
    "start_time": "2021-08-23T13:45:36.165Z"
   },
   {
    "duration": 941,
    "start_time": "2021-08-23T15:18:27.064Z"
   },
   {
    "duration": 24,
    "start_time": "2021-08-23T15:18:28.012Z"
   },
   {
    "duration": 12,
    "start_time": "2021-08-23T15:18:28.039Z"
   },
   {
    "duration": 73,
    "start_time": "2021-08-23T15:18:28.054Z"
   },
   {
    "duration": 5075,
    "start_time": "2021-08-23T15:18:28.130Z"
   },
   {
    "duration": 904,
    "start_time": "2021-08-24T04:46:43.563Z"
   },
   {
    "duration": 428,
    "start_time": "2021-08-24T04:47:00.893Z"
   },
   {
    "duration": 829,
    "start_time": "2021-08-24T04:47:23.974Z"
   },
   {
    "duration": 32,
    "start_time": "2021-08-24T04:47:24.807Z"
   },
   {
    "duration": 80,
    "start_time": "2021-08-24T04:47:24.842Z"
   },
   {
    "duration": 87,
    "start_time": "2021-08-24T04:47:24.925Z"
   },
   {
    "duration": 5124,
    "start_time": "2021-08-24T04:47:25.015Z"
   },
   {
    "duration": 5149,
    "start_time": "2021-08-24T04:54:20.052Z"
   },
   {
    "duration": 5383,
    "start_time": "2021-08-24T04:56:34.312Z"
   },
   {
    "duration": 39,
    "start_time": "2021-08-24T06:33:41.751Z"
   },
   {
    "duration": 35,
    "start_time": "2021-08-24T06:35:29.022Z"
   },
   {
    "duration": 538,
    "start_time": "2021-08-24T06:58:24.786Z"
   },
   {
    "duration": 1481,
    "start_time": "2021-08-24T06:58:52.529Z"
   },
   {
    "duration": 546,
    "start_time": "2021-08-24T06:59:27.299Z"
   },
   {
    "duration": 601,
    "start_time": "2021-08-24T07:11:14.135Z"
   },
   {
    "duration": 618,
    "start_time": "2021-08-24T07:13:02.732Z"
   },
   {
    "duration": 20,
    "start_time": "2021-08-24T07:29:05.623Z"
   },
   {
    "duration": 599,
    "start_time": "2021-08-24T07:36:20.490Z"
   },
   {
    "duration": 7,
    "start_time": "2021-08-24T08:08:42.035Z"
   },
   {
    "duration": 7,
    "start_time": "2021-08-24T08:08:59.776Z"
   },
   {
    "duration": 6,
    "start_time": "2021-08-24T08:09:08.912Z"
   },
   {
    "duration": 23,
    "start_time": "2021-08-24T08:11:33.842Z"
   },
   {
    "duration": 6,
    "start_time": "2021-08-24T08:12:25.404Z"
   },
   {
    "duration": 396,
    "start_time": "2021-08-24T08:27:55.666Z"
   },
   {
    "duration": 108,
    "start_time": "2021-08-24T08:34:08.800Z"
   },
   {
    "duration": 623,
    "start_time": "2021-08-24T08:34:29.664Z"
   },
   {
    "duration": 1280,
    "start_time": "2021-08-24T08:35:50.651Z"
   },
   {
    "duration": 665,
    "start_time": "2021-08-24T08:35:59.602Z"
   },
   {
    "duration": 640,
    "start_time": "2021-08-24T08:36:43.335Z"
   },
   {
    "duration": 297,
    "start_time": "2021-08-24T08:41:43.974Z"
   },
   {
    "duration": 38,
    "start_time": "2021-08-24T08:41:54.754Z"
   },
   {
    "duration": 33,
    "start_time": "2021-08-24T08:42:36.330Z"
   },
   {
    "duration": 341,
    "start_time": "2021-08-24T08:49:26.032Z"
   },
   {
    "duration": 26,
    "start_time": "2021-08-24T08:50:39.008Z"
   },
   {
    "duration": 28,
    "start_time": "2021-08-24T08:51:41.305Z"
   },
   {
    "duration": 27,
    "start_time": "2021-08-24T08:52:05.161Z"
   },
   {
    "duration": 28,
    "start_time": "2021-08-24T08:52:46.902Z"
   },
   {
    "duration": 27,
    "start_time": "2021-08-24T08:53:08.687Z"
   },
   {
    "duration": 26,
    "start_time": "2021-08-24T08:53:23.479Z"
   },
   {
    "duration": 33,
    "start_time": "2021-08-24T08:55:00.533Z"
   },
   {
    "duration": 314,
    "start_time": "2021-08-24T08:57:49.727Z"
   },
   {
    "duration": 306,
    "start_time": "2021-08-24T08:58:10.726Z"
   },
   {
    "duration": 7532,
    "start_time": "2021-08-24T08:58:21.762Z"
   },
   {
    "duration": 420,
    "start_time": "2021-08-24T09:06:50.920Z"
   },
   {
    "duration": 32,
    "start_time": "2021-08-24T09:08:16.944Z"
   },
   {
    "duration": 27,
    "start_time": "2021-08-24T09:11:40.348Z"
   },
   {
    "duration": 33,
    "start_time": "2021-08-24T09:12:53.101Z"
   },
   {
    "duration": 38,
    "start_time": "2021-08-24T09:15:22.330Z"
   },
   {
    "duration": 30,
    "start_time": "2021-08-24T09:15:31.116Z"
   },
   {
    "duration": 29,
    "start_time": "2021-08-24T09:17:28.761Z"
   },
   {
    "duration": 29,
    "start_time": "2021-08-24T09:18:23.284Z"
   },
   {
    "duration": 311,
    "start_time": "2021-08-24T09:23:34.023Z"
   },
   {
    "duration": 331,
    "start_time": "2021-08-24T09:24:24.291Z"
   },
   {
    "duration": 396,
    "start_time": "2021-08-24T09:24:54.436Z"
   },
   {
    "duration": 469,
    "start_time": "2021-08-24T09:25:27.438Z"
   },
   {
    "duration": 32,
    "start_time": "2021-08-24T09:26:18.671Z"
   },
   {
    "duration": 7884,
    "start_time": "2021-08-24T09:28:08.502Z"
   },
   {
    "duration": 820,
    "start_time": "2021-08-24T09:34:00.212Z"
   },
   {
    "duration": 23,
    "start_time": "2021-08-24T09:34:01.035Z"
   },
   {
    "duration": 6,
    "start_time": "2021-08-24T09:34:01.061Z"
   },
   {
    "duration": 60,
    "start_time": "2021-08-24T09:34:01.069Z"
   },
   {
    "duration": 4593,
    "start_time": "2021-08-24T09:34:01.131Z"
   },
   {
    "duration": 37,
    "start_time": "2021-08-24T09:34:05.726Z"
   },
   {
    "duration": 441,
    "start_time": "2021-08-24T09:34:05.766Z"
   },
   {
    "duration": 101651516,
    "start_time": "2021-08-23T05:19:54.694Z"
   },
   {
    "duration": 97,
    "start_time": "2021-08-24T09:36:37.890Z"
   },
   {
    "duration": 78,
    "start_time": "2021-08-24T09:36:48.085Z"
   },
   {
    "duration": 36,
    "start_time": "2021-08-24T09:37:27.855Z"
   },
   {
    "duration": 19,
    "start_time": "2021-08-24T09:37:45.319Z"
   },
   {
    "duration": 68,
    "start_time": "2021-08-24T09:38:19.364Z"
   },
   {
    "duration": 55,
    "start_time": "2021-08-24T09:42:53.926Z"
   },
   {
    "duration": 8937,
    "start_time": "2021-08-24T09:43:05.340Z"
   },
   {
    "duration": 869,
    "start_time": "2021-08-24T09:43:16.874Z"
   },
   {
    "duration": 36,
    "start_time": "2021-08-24T09:43:17.746Z"
   },
   {
    "duration": 30,
    "start_time": "2021-08-24T09:43:17.785Z"
   },
   {
    "duration": 89,
    "start_time": "2021-08-24T09:43:17.818Z"
   },
   {
    "duration": 4425,
    "start_time": "2021-08-24T09:43:17.910Z"
   },
   {
    "duration": 36,
    "start_time": "2021-08-24T09:43:22.339Z"
   },
   {
    "duration": 105251500,
    "start_time": "2021-08-23T04:29:18.261Z"
   },
   {
    "duration": 105251492,
    "start_time": "2021-08-23T04:29:18.271Z"
   },
   {
    "duration": 54,
    "start_time": "2021-08-24T09:43:54.091Z"
   },
   {
    "duration": 322,
    "start_time": "2021-08-24T12:53:22.910Z"
   },
   {
    "duration": 563,
    "start_time": "2021-08-24T12:53:38.373Z"
   },
   {
    "duration": 29,
    "start_time": "2021-08-24T12:54:01.020Z"
   },
   {
    "duration": 845,
    "start_time": "2021-08-24T12:54:11.897Z"
   },
   {
    "duration": 35,
    "start_time": "2021-08-24T12:54:12.745Z"
   },
   {
    "duration": 32,
    "start_time": "2021-08-24T12:54:12.783Z"
   },
   {
    "duration": 87,
    "start_time": "2021-08-24T12:54:12.817Z"
   },
   {
    "duration": 4508,
    "start_time": "2021-08-24T12:54:12.907Z"
   },
   {
    "duration": 43,
    "start_time": "2021-08-24T12:54:17.418Z"
   },
   {
    "duration": 55,
    "start_time": "2021-08-24T12:54:17.464Z"
   },
   {
    "duration": 77,
    "start_time": "2021-08-24T12:54:17.523Z"
   },
   {
    "duration": 44,
    "start_time": "2021-08-24T12:56:54.842Z"
   },
   {
    "duration": 147,
    "start_time": "2021-08-24T13:04:56.505Z"
   },
   {
    "duration": 27,
    "start_time": "2021-08-24T13:05:07.638Z"
   },
   {
    "duration": 7700,
    "start_time": "2021-08-24T13:05:22.494Z"
   },
   {
    "duration": 116051719,
    "start_time": "2021-08-23T04:53:04.698Z"
   },
   {
    "duration": 1118,
    "start_time": "2021-08-24T13:07:58.645Z"
   },
   {
    "duration": 62,
    "start_time": "2021-08-24T13:07:59.766Z"
   },
   {
    "duration": 26,
    "start_time": "2021-08-24T13:07:59.833Z"
   },
   {
    "duration": 106,
    "start_time": "2021-08-24T13:07:59.863Z"
   },
   {
    "duration": 5214,
    "start_time": "2021-08-24T13:07:59.972Z"
   },
   {
    "duration": 49,
    "start_time": "2021-08-24T13:08:05.189Z"
   },
   {
    "duration": 30,
    "start_time": "2021-08-24T13:08:05.242Z"
   },
   {
    "duration": 8713,
    "start_time": "2021-08-24T13:08:05.275Z"
   },
   {
    "duration": 8764,
    "start_time": "2021-08-24T13:11:55.685Z"
   },
   {
    "duration": 30,
    "start_time": "2021-08-24T13:13:25.209Z"
   },
   {
    "duration": 32,
    "start_time": "2021-08-24T13:14:38.475Z"
   },
   {
    "duration": 26,
    "start_time": "2021-08-24T13:17:37.987Z"
   },
   {
    "duration": 30,
    "start_time": "2021-08-24T13:18:18.682Z"
   },
   {
    "duration": 28,
    "start_time": "2021-08-24T13:20:46.720Z"
   },
   {
    "duration": 361,
    "start_time": "2021-08-24T13:21:34.460Z"
   },
   {
    "duration": 330,
    "start_time": "2021-08-24T13:30:00.708Z"
   },
   {
    "duration": 28,
    "start_time": "2021-08-24T13:30:22.497Z"
   },
   {
    "duration": 46,
    "start_time": "2021-08-24T13:49:53.160Z"
   },
   {
    "duration": 36,
    "start_time": "2021-08-24T13:54:29.110Z"
   },
   {
    "duration": 38,
    "start_time": "2021-08-24T13:58:22.645Z"
   },
   {
    "duration": 38,
    "start_time": "2021-08-24T13:59:06.673Z"
   },
   {
    "duration": 9225,
    "start_time": "2021-08-24T14:15:53.057Z"
   },
   {
    "duration": 687,
    "start_time": "2021-08-24T14:20:13.576Z"
   },
   {
    "duration": 45,
    "start_time": "2021-08-24T14:20:29.501Z"
   },
   {
    "duration": 48,
    "start_time": "2021-08-24T14:20:54.147Z"
   },
   {
    "duration": 28,
    "start_time": "2021-08-24T14:22:33.894Z"
   },
   {
    "duration": 27,
    "start_time": "2021-08-24T14:22:51.999Z"
   },
   {
    "duration": 818,
    "start_time": "2021-08-24T14:23:37.884Z"
   },
   {
    "duration": 34,
    "start_time": "2021-08-24T14:23:38.705Z"
   },
   {
    "duration": 16,
    "start_time": "2021-08-24T14:23:38.742Z"
   },
   {
    "duration": 109,
    "start_time": "2021-08-24T14:23:38.760Z"
   },
   {
    "duration": 4546,
    "start_time": "2021-08-24T14:23:38.872Z"
   },
   {
    "duration": 45,
    "start_time": "2021-08-24T14:23:43.422Z"
   },
   {
    "duration": 49,
    "start_time": "2021-08-24T14:23:43.469Z"
   },
   {
    "duration": 35,
    "start_time": "2021-08-24T14:23:43.521Z"
   },
   {
    "duration": 72,
    "start_time": "2021-08-24T14:23:43.559Z"
   },
   {
    "duration": 790,
    "start_time": "2021-08-24T14:26:29.434Z"
   },
   {
    "duration": 34,
    "start_time": "2021-08-24T14:26:30.226Z"
   },
   {
    "duration": 17,
    "start_time": "2021-08-24T14:26:30.263Z"
   },
   {
    "duration": 91,
    "start_time": "2021-08-24T14:26:30.282Z"
   },
   {
    "duration": 4509,
    "start_time": "2021-08-24T14:26:30.392Z"
   },
   {
    "duration": 44,
    "start_time": "2021-08-24T14:26:34.904Z"
   },
   {
    "duration": 60,
    "start_time": "2021-08-24T14:26:34.952Z"
   },
   {
    "duration": 58,
    "start_time": "2021-08-24T14:26:35.015Z"
   },
   {
    "duration": 94,
    "start_time": "2021-08-24T14:26:35.076Z"
   },
   {
    "duration": 45,
    "start_time": "2021-08-24T14:33:20.829Z"
   },
   {
    "duration": 821,
    "start_time": "2021-08-24T14:41:40.328Z"
   },
   {
    "duration": 35,
    "start_time": "2021-08-24T14:41:41.152Z"
   },
   {
    "duration": 44,
    "start_time": "2021-08-24T14:41:41.202Z"
   },
   {
    "duration": 98,
    "start_time": "2021-08-24T14:41:41.249Z"
   },
   {
    "duration": 4573,
    "start_time": "2021-08-24T14:41:41.349Z"
   },
   {
    "duration": 37,
    "start_time": "2021-08-24T14:41:45.925Z"
   },
   {
    "duration": 48,
    "start_time": "2021-08-24T14:41:45.965Z"
   },
   {
    "duration": 37,
    "start_time": "2021-08-24T14:41:46.015Z"
   },
   {
    "duration": 75,
    "start_time": "2021-08-24T14:41:46.056Z"
   },
   {
    "duration": 38,
    "start_time": "2021-08-24T14:44:05.323Z"
   },
   {
    "duration": 32,
    "start_time": "2021-08-24T14:48:55.311Z"
   },
   {
    "duration": 818,
    "start_time": "2021-08-24T14:51:39.026Z"
   },
   {
    "duration": 35,
    "start_time": "2021-08-24T14:51:39.847Z"
   },
   {
    "duration": 44,
    "start_time": "2021-08-24T14:51:39.901Z"
   },
   {
    "duration": 95,
    "start_time": "2021-08-24T14:51:39.948Z"
   },
   {
    "duration": 4661,
    "start_time": "2021-08-24T14:51:40.046Z"
   },
   {
    "duration": 36,
    "start_time": "2021-08-24T14:51:44.711Z"
   },
   {
    "duration": 49,
    "start_time": "2021-08-24T14:51:44.751Z"
   },
   {
    "duration": 38,
    "start_time": "2021-08-24T14:51:44.802Z"
   },
   {
    "duration": 73,
    "start_time": "2021-08-24T14:51:44.843Z"
   },
   {
    "duration": 38,
    "start_time": "2021-08-24T14:51:44.919Z"
   },
   {
    "duration": 984,
    "start_time": "2021-08-25T10:45:10.258Z"
   },
   {
    "duration": 35,
    "start_time": "2021-08-25T10:45:11.246Z"
   },
   {
    "duration": 41,
    "start_time": "2021-08-25T10:45:11.285Z"
   },
   {
    "duration": 89,
    "start_time": "2021-08-25T10:45:11.329Z"
   },
   {
    "duration": 4505,
    "start_time": "2021-08-25T10:45:11.421Z"
   },
   {
    "duration": 53,
    "start_time": "2021-08-25T10:45:15.928Z"
   },
   {
    "duration": 30,
    "start_time": "2021-08-25T10:45:15.984Z"
   },
   {
    "duration": 38,
    "start_time": "2021-08-25T10:45:16.018Z"
   },
   {
    "duration": 75,
    "start_time": "2021-08-25T10:47:01.525Z"
   },
   {
    "duration": 36,
    "start_time": "2021-08-25T10:47:01.602Z"
   },
   {
    "duration": 42,
    "start_time": "2021-08-25T10:47:01.641Z"
   },
   {
    "duration": 101,
    "start_time": "2021-08-25T10:47:01.685Z"
   },
   {
    "duration": 4380,
    "start_time": "2021-08-25T10:47:01.788Z"
   },
   {
    "duration": 32,
    "start_time": "2021-08-25T10:47:06.171Z"
   },
   {
    "duration": 9,
    "start_time": "2021-08-25T10:47:06.205Z"
   },
   {
    "duration": 62,
    "start_time": "2021-08-25T10:47:06.216Z"
   },
   {
    "duration": 38,
    "start_time": "2021-08-25T10:47:06.282Z"
   },
   {
    "duration": 77,
    "start_time": "2021-08-25T10:47:06.323Z"
   },
   {
    "duration": 10,
    "start_time": "2021-08-25T10:47:29.953Z"
   },
   {
    "duration": 211,
    "start_time": "2021-08-25T16:52:56.056Z"
   },
   {
    "duration": 190,
    "start_time": "2021-08-25T16:53:31.992Z"
   },
   {
    "duration": 182,
    "start_time": "2021-08-25T16:55:02.990Z"
   },
   {
    "duration": 868,
    "start_time": "2021-08-26T05:30:21.640Z"
   },
   {
    "duration": 80,
    "start_time": "2021-08-26T05:30:22.511Z"
   },
   {
    "duration": 33,
    "start_time": "2021-08-26T05:30:22.594Z"
   },
   {
    "duration": 78,
    "start_time": "2021-08-26T05:30:22.630Z"
   },
   {
    "duration": 4893,
    "start_time": "2021-08-26T05:30:22.711Z"
   },
   {
    "duration": 51,
    "start_time": "2021-08-26T05:30:27.607Z"
   },
   {
    "duration": 10,
    "start_time": "2021-08-26T05:30:27.661Z"
   },
   {
    "duration": 36,
    "start_time": "2021-08-26T05:30:27.675Z"
   },
   {
    "duration": 63,
    "start_time": "2021-08-26T05:30:27.714Z"
   },
   {
    "duration": 50,
    "start_time": "2021-08-26T05:30:27.780Z"
   },
   {
    "duration": 10,
    "start_time": "2021-08-26T05:30:27.855Z"
   },
   {
    "duration": 40,
    "start_time": "2021-08-26T05:30:27.868Z"
   },
   {
    "duration": 16,
    "start_time": "2021-08-26T06:59:36.858Z"
   },
   {
    "duration": 2407,
    "start_time": "2021-08-26T07:00:29.518Z"
   },
   {
    "duration": 61,
    "start_time": "2021-08-26T07:01:09.329Z"
   },
   {
    "duration": 53,
    "start_time": "2021-08-26T07:01:23.826Z"
   },
   {
    "duration": 52,
    "start_time": "2021-08-26T07:01:44.045Z"
   },
   {
    "duration": 2417,
    "start_time": "2021-08-26T07:02:07.403Z"
   },
   {
    "duration": 291,
    "start_time": "2021-08-26T07:03:46.720Z"
   },
   {
    "duration": 53,
    "start_time": "2021-08-26T07:04:32.953Z"
   },
   {
    "duration": 58,
    "start_time": "2021-08-26T07:05:32.237Z"
   },
   {
    "duration": 1963,
    "start_time": "2021-08-26T07:06:40.551Z"
   },
   {
    "duration": 1830,
    "start_time": "2021-08-26T07:06:56.610Z"
   },
   {
    "duration": 309,
    "start_time": "2021-08-26T07:08:23.934Z"
   },
   {
    "duration": 342,
    "start_time": "2021-08-26T07:08:39.169Z"
   },
   {
    "duration": 54,
    "start_time": "2021-08-26T07:08:56.546Z"
   },
   {
    "duration": 76,
    "start_time": "2021-08-26T07:09:10.874Z"
   },
   {
    "duration": 275,
    "start_time": "2021-08-26T07:10:19.148Z"
   },
   {
    "duration": 274,
    "start_time": "2021-08-26T07:10:36.898Z"
   },
   {
    "duration": 282,
    "start_time": "2021-08-26T07:10:55.786Z"
   },
   {
    "duration": 829,
    "start_time": "2021-08-26T07:11:06.874Z"
   },
   {
    "duration": 86,
    "start_time": "2021-08-26T07:11:07.705Z"
   },
   {
    "duration": 32,
    "start_time": "2021-08-26T07:11:07.794Z"
   },
   {
    "duration": 79,
    "start_time": "2021-08-26T07:11:07.829Z"
   },
   {
    "duration": 4890,
    "start_time": "2021-08-26T07:11:07.910Z"
   },
   {
    "duration": 40,
    "start_time": "2021-08-26T07:11:12.803Z"
   },
   {
    "duration": 11,
    "start_time": "2021-08-26T07:11:12.854Z"
   },
   {
    "duration": 396,
    "start_time": "2021-08-26T07:11:12.868Z"
   },
   {
    "duration": 5448381,
    "start_time": "2021-08-26T05:40:24.886Z"
   },
   {
    "duration": 5448380,
    "start_time": "2021-08-26T05:40:24.889Z"
   },
   {
    "duration": 5448376,
    "start_time": "2021-08-26T05:40:24.894Z"
   },
   {
    "duration": 5448368,
    "start_time": "2021-08-26T05:40:24.903Z"
   },
   {
    "duration": 19,
    "start_time": "2021-08-26T07:30:30.853Z"
   },
   {
    "duration": 305,
    "start_time": "2021-08-26T07:33:41.220Z"
   },
   {
    "duration": 556,
    "start_time": "2021-08-26T07:39:41.781Z"
   },
   {
    "duration": 495,
    "start_time": "2021-08-26T07:40:19.988Z"
   },
   {
    "duration": 302,
    "start_time": "2021-08-26T07:41:21.315Z"
   },
   {
    "duration": 280,
    "start_time": "2021-08-26T07:42:27.788Z"
   },
   {
    "duration": 374,
    "start_time": "2021-08-26T07:42:42.631Z"
   },
   {
    "duration": 330,
    "start_time": "2021-08-26T07:46:02.638Z"
   },
   {
    "duration": 283,
    "start_time": "2021-08-26T07:47:00.384Z"
   },
   {
    "duration": 48,
    "start_time": "2021-08-26T08:01:52.949Z"
   },
   {
    "duration": 301,
    "start_time": "2021-08-26T08:02:37.282Z"
   },
   {
    "duration": 31,
    "start_time": "2021-08-26T08:04:33.785Z"
   },
   {
    "duration": 56,
    "start_time": "2021-08-26T08:04:45.535Z"
   },
   {
    "duration": 366,
    "start_time": "2021-08-26T08:06:07.104Z"
   },
   {
    "duration": 29,
    "start_time": "2021-08-26T08:07:26.080Z"
   },
   {
    "duration": 28,
    "start_time": "2021-08-26T08:12:25.374Z"
   },
   {
    "duration": 60,
    "start_time": "2021-08-26T08:12:34.956Z"
   },
   {
    "duration": 36,
    "start_time": "2021-08-26T08:14:35.136Z"
   },
   {
    "duration": 39,
    "start_time": "2021-08-26T08:14:50.267Z"
   },
   {
    "duration": 38,
    "start_time": "2021-08-26T08:15:15.452Z"
   },
   {
    "duration": 38,
    "start_time": "2021-08-26T08:16:41.551Z"
   },
   {
    "duration": 39,
    "start_time": "2021-08-26T08:17:03.759Z"
   },
   {
    "duration": 48,
    "start_time": "2021-08-26T08:22:27.686Z"
   },
   {
    "duration": 100,
    "start_time": "2021-08-26T08:25:35.048Z"
   },
   {
    "duration": 41,
    "start_time": "2021-08-26T08:25:50.315Z"
   },
   {
    "duration": 42,
    "start_time": "2021-08-26T08:26:30.166Z"
   },
   {
    "duration": 11,
    "start_time": "2021-08-26T08:34:32.725Z"
   },
   {
    "duration": 1130,
    "start_time": "2021-08-26T08:39:32.987Z"
   },
   {
    "duration": 137,
    "start_time": "2021-08-26T08:39:34.120Z"
   },
   {
    "duration": 54,
    "start_time": "2021-08-26T08:39:34.262Z"
   },
   {
    "duration": 138,
    "start_time": "2021-08-26T08:39:34.320Z"
   },
   {
    "duration": 5695,
    "start_time": "2021-08-26T08:39:34.462Z"
   },
   {
    "duration": 59,
    "start_time": "2021-08-26T08:39:40.160Z"
   },
   {
    "duration": 34,
    "start_time": "2021-08-26T08:39:40.221Z"
   },
   {
    "duration": 55,
    "start_time": "2021-08-26T08:39:40.258Z"
   },
   {
    "duration": 37,
    "start_time": "2021-08-26T08:39:40.319Z"
   },
   {
    "duration": 99,
    "start_time": "2021-08-26T08:39:40.360Z"
   },
   {
    "duration": 14,
    "start_time": "2021-08-26T08:39:40.463Z"
   },
   {
    "duration": 78,
    "start_time": "2021-08-26T08:39:40.481Z"
   },
   {
    "duration": 401,
    "start_time": "2021-08-26T08:45:39.819Z"
   },
   {
    "duration": 275,
    "start_time": "2021-08-26T08:45:47.234Z"
   },
   {
    "duration": 308,
    "start_time": "2021-08-26T08:46:00.855Z"
   },
   {
    "duration": 64,
    "start_time": "2021-08-26T08:53:09.169Z"
   },
   {
    "duration": 851,
    "start_time": "2021-08-26T08:53:32.094Z"
   },
   {
    "duration": 81,
    "start_time": "2021-08-26T08:53:32.948Z"
   },
   {
    "duration": 52,
    "start_time": "2021-08-26T08:53:33.032Z"
   },
   {
    "duration": 77,
    "start_time": "2021-08-26T08:53:33.087Z"
   },
   {
    "duration": 5533,
    "start_time": "2021-08-26T08:53:33.167Z"
   },
   {
    "duration": 57,
    "start_time": "2021-08-26T08:53:38.703Z"
   },
   {
    "duration": 13,
    "start_time": "2021-08-26T08:53:38.764Z"
   },
   {
    "duration": 48,
    "start_time": "2021-08-26T08:53:38.779Z"
   },
   {
    "duration": 11,
    "start_time": "2021-08-26T08:53:38.857Z"
   },
   {
    "duration": 37,
    "start_time": "2021-08-26T08:53:38.871Z"
   },
   {
    "duration": 8241,
    "start_time": "2021-08-26T08:53:38.911Z"
   },
   {
    "duration": 12648490,
    "start_time": "2021-08-26T05:22:58.665Z"
   },
   {
    "duration": 278,
    "start_time": "2021-08-26T08:54:33.511Z"
   },
   {
    "duration": 78,
    "start_time": "2021-08-26T08:55:24.444Z"
   },
   {
    "duration": 837,
    "start_time": "2021-08-26T08:57:45.795Z"
   },
   {
    "duration": 81,
    "start_time": "2021-08-26T08:57:46.635Z"
   },
   {
    "duration": 41,
    "start_time": "2021-08-26T08:57:47.130Z"
   },
   {
    "duration": 82,
    "start_time": "2021-08-26T08:57:47.174Z"
   },
   {
    "duration": 5636,
    "start_time": "2021-08-26T08:57:47.261Z"
   },
   {
    "duration": 54,
    "start_time": "2021-08-26T08:57:52.902Z"
   },
   {
    "duration": 15,
    "start_time": "2021-08-26T08:57:52.960Z"
   },
   {
    "duration": 77,
    "start_time": "2021-08-26T08:57:52.978Z"
   },
   {
    "duration": 18,
    "start_time": "2021-08-26T08:57:53.058Z"
   },
   {
    "duration": 89,
    "start_time": "2021-08-26T08:57:53.079Z"
   },
   {
    "duration": 13,
    "start_time": "2021-08-26T08:57:53.174Z"
   },
   {
    "duration": 80,
    "start_time": "2021-08-26T08:57:53.191Z"
   },
   {
    "duration": 1487,
    "start_time": "2021-08-26T09:12:40.536Z"
   },
   {
    "duration": 86,
    "start_time": "2021-08-26T09:12:42.026Z"
   },
   {
    "duration": 61,
    "start_time": "2021-08-26T09:12:42.115Z"
   },
   {
    "duration": 80,
    "start_time": "2021-08-26T09:12:42.179Z"
   },
   {
    "duration": 5481,
    "start_time": "2021-08-26T09:12:42.263Z"
   },
   {
    "duration": 58,
    "start_time": "2021-08-26T09:12:47.747Z"
   },
   {
    "duration": 14,
    "start_time": "2021-08-26T09:12:47.807Z"
   },
   {
    "duration": 86,
    "start_time": "2021-08-26T09:12:47.824Z"
   },
   {
    "duration": 10,
    "start_time": "2021-08-26T09:12:47.913Z"
   },
   {
    "duration": 86,
    "start_time": "2021-08-26T09:12:47.926Z"
   },
   {
    "duration": 9,
    "start_time": "2021-08-26T09:12:48.014Z"
   },
   {
    "duration": 76,
    "start_time": "2021-08-26T09:12:48.025Z"
   },
   {
    "duration": 47,
    "start_time": "2021-08-26T09:29:58.297Z"
   },
   {
    "duration": 17,
    "start_time": "2021-08-26T09:55:43.032Z"
   },
   {
    "duration": 973,
    "start_time": "2021-08-26T10:00:30.972Z"
   },
   {
    "duration": 82,
    "start_time": "2021-08-26T10:00:31.949Z"
   },
   {
    "duration": 60,
    "start_time": "2021-08-26T10:00:32.034Z"
   },
   {
    "duration": 118,
    "start_time": "2021-08-26T10:00:32.098Z"
   },
   {
    "duration": 5368,
    "start_time": "2021-08-26T10:00:32.220Z"
   },
   {
    "duration": 44,
    "start_time": "2021-08-26T10:00:37.592Z"
   },
   {
    "duration": 37,
    "start_time": "2021-08-26T10:00:37.639Z"
   },
   {
    "duration": 54,
    "start_time": "2021-08-26T10:00:37.679Z"
   },
   {
    "duration": 26,
    "start_time": "2021-08-26T10:00:37.737Z"
   },
   {
    "duration": 55,
    "start_time": "2021-08-26T10:00:37.767Z"
   },
   {
    "duration": 16,
    "start_time": "2021-08-26T10:00:37.853Z"
   },
   {
    "duration": 14,
    "start_time": "2021-08-26T10:00:37.873Z"
   },
   {
    "duration": 832,
    "start_time": "2021-08-26T10:03:28.400Z"
   },
   {
    "duration": 82,
    "start_time": "2021-08-26T10:03:29.235Z"
   },
   {
    "duration": 34,
    "start_time": "2021-08-26T10:03:29.378Z"
   },
   {
    "duration": 88,
    "start_time": "2021-08-26T10:03:29.415Z"
   },
   {
    "duration": 5233,
    "start_time": "2021-08-26T10:03:29.506Z"
   },
   {
    "duration": 38,
    "start_time": "2021-08-26T10:03:34.743Z"
   },
   {
    "duration": 12,
    "start_time": "2021-08-26T10:03:34.785Z"
   },
   {
    "duration": 88,
    "start_time": "2021-08-26T10:03:34.801Z"
   },
   {
    "duration": 14,
    "start_time": "2021-08-26T10:03:34.893Z"
   },
   {
    "duration": 86,
    "start_time": "2021-08-26T10:03:34.910Z"
   },
   {
    "duration": 12,
    "start_time": "2021-08-26T10:03:34.999Z"
   },
   {
    "duration": 21,
    "start_time": "2021-08-26T10:03:35.014Z"
   },
   {
    "duration": 899,
    "start_time": "2021-08-26T10:06:41.971Z"
   },
   {
    "duration": 85,
    "start_time": "2021-08-26T10:06:42.873Z"
   },
   {
    "duration": 37,
    "start_time": "2021-08-26T10:06:42.962Z"
   },
   {
    "duration": 99,
    "start_time": "2021-08-26T10:06:43.002Z"
   },
   {
    "duration": 5279,
    "start_time": "2021-08-26T10:06:43.104Z"
   },
   {
    "duration": 24,
    "start_time": "2021-08-26T10:06:48.385Z"
   },
   {
    "duration": 12,
    "start_time": "2021-08-26T10:06:48.412Z"
   },
   {
    "duration": 93,
    "start_time": "2021-08-26T10:06:48.428Z"
   },
   {
    "duration": 18,
    "start_time": "2021-08-26T10:06:48.554Z"
   },
   {
    "duration": 102,
    "start_time": "2021-08-26T10:06:48.575Z"
   },
   {
    "duration": 14,
    "start_time": "2021-08-26T10:06:48.680Z"
   },
   {
    "duration": 17,
    "start_time": "2021-08-26T10:06:48.698Z"
   },
   {
    "duration": 43,
    "start_time": "2021-08-26T11:55:20.762Z"
   },
   {
    "duration": 50,
    "start_time": "2021-08-26T11:56:16.356Z"
   },
   {
    "duration": 852,
    "start_time": "2021-08-26T18:50:07.811Z"
   },
   {
    "duration": 78,
    "start_time": "2021-08-26T18:50:08.666Z"
   }
  ],
  "kernelspec": {
   "display_name": "Python 3 (ipykernel)",
   "language": "python",
   "name": "python3"
  },
  "language_info": {
   "codemirror_mode": {
    "name": "ipython",
    "version": 3
   },
   "file_extension": ".py",
   "mimetype": "text/x-python",
   "name": "python",
   "nbconvert_exporter": "python",
   "pygments_lexer": "ipython3",
   "version": "3.9.7"
  },
  "toc": {
   "base_numbering": 1,
   "nav_menu": {},
   "number_sections": true,
   "sideBar": true,
   "skip_h1_title": true,
   "title_cell": "Table of Contents",
   "title_sidebar": "Contents",
   "toc_cell": false,
   "toc_position": {},
   "toc_section_display": true,
   "toc_window_display": false
  }
 },
 "nbformat": 4,
 "nbformat_minor": 2
}

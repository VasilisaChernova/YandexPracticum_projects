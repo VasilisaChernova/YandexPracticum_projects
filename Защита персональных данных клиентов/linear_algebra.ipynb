{
 "cells": [
  {
   "cell_type": "markdown",
   "metadata": {},
   "source": [
    "# Защита персональных данных клиентов"
   ]
  },
  {
   "cell_type": "markdown",
   "metadata": {},
   "source": [
    "Страховой компании нужен алгоритм шифрования данных клиентов. В этом проекте представлен алгоритм матричного умножения с доказательством его работоспособности: изучено, влияет ли такой алгоритм шифрования на метрику качества модели. Модель предсказывает факт страховых выплат."
   ]
  },
  {
   "cell_type": "markdown",
   "metadata": {},
   "source": [
    "## Загрузка данных"
   ]
  },
  {
   "cell_type": "code",
   "execution_count": 1,
   "metadata": {},
   "outputs": [],
   "source": [
    "import pandas as pd\n",
    "import numpy as np\n",
    "from sklearn.model_selection import train_test_split, cross_val_score\n",
    "from sklearn.linear_model import LinearRegression\n",
    "from sklearn.metrics import r2_score\n",
    "from numpy.linalg import inv"
   ]
  },
  {
   "cell_type": "code",
   "execution_count": 2,
   "metadata": {
    "scrolled": false
   },
   "outputs": [
    {
     "name": "stdout",
     "output_type": "stream",
     "text": [
      "<class 'pandas.core.frame.DataFrame'>\n",
      "RangeIndex: 5000 entries, 0 to 4999\n",
      "Data columns (total 5 columns):\n",
      " #   Column             Non-Null Count  Dtype  \n",
      "---  ------             --------------  -----  \n",
      " 0   Пол                5000 non-null   int64  \n",
      " 1   Возраст            5000 non-null   float64\n",
      " 2   Зарплата           5000 non-null   float64\n",
      " 3   Члены семьи        5000 non-null   int64  \n",
      " 4   Страховые выплаты  5000 non-null   int64  \n",
      "dtypes: float64(2), int64(3)\n",
      "memory usage: 195.4 KB\n"
     ]
    },
    {
     "data": {
      "text/html": [
       "<div>\n",
       "<style scoped>\n",
       "    .dataframe tbody tr th:only-of-type {\n",
       "        vertical-align: middle;\n",
       "    }\n",
       "\n",
       "    .dataframe tbody tr th {\n",
       "        vertical-align: top;\n",
       "    }\n",
       "\n",
       "    .dataframe thead th {\n",
       "        text-align: right;\n",
       "    }\n",
       "</style>\n",
       "<table border=\"1\" class=\"dataframe\">\n",
       "  <thead>\n",
       "    <tr style=\"text-align: right;\">\n",
       "      <th></th>\n",
       "      <th>Пол</th>\n",
       "      <th>Возраст</th>\n",
       "      <th>Зарплата</th>\n",
       "      <th>Члены семьи</th>\n",
       "      <th>Страховые выплаты</th>\n",
       "    </tr>\n",
       "  </thead>\n",
       "  <tbody>\n",
       "    <tr>\n",
       "      <th>0</th>\n",
       "      <td>1</td>\n",
       "      <td>41.0</td>\n",
       "      <td>49600.0</td>\n",
       "      <td>1</td>\n",
       "      <td>0</td>\n",
       "    </tr>\n",
       "    <tr>\n",
       "      <th>1</th>\n",
       "      <td>0</td>\n",
       "      <td>46.0</td>\n",
       "      <td>38000.0</td>\n",
       "      <td>1</td>\n",
       "      <td>1</td>\n",
       "    </tr>\n",
       "    <tr>\n",
       "      <th>2</th>\n",
       "      <td>0</td>\n",
       "      <td>29.0</td>\n",
       "      <td>21000.0</td>\n",
       "      <td>0</td>\n",
       "      <td>0</td>\n",
       "    </tr>\n",
       "    <tr>\n",
       "      <th>3</th>\n",
       "      <td>0</td>\n",
       "      <td>21.0</td>\n",
       "      <td>41700.0</td>\n",
       "      <td>2</td>\n",
       "      <td>0</td>\n",
       "    </tr>\n",
       "    <tr>\n",
       "      <th>4</th>\n",
       "      <td>1</td>\n",
       "      <td>28.0</td>\n",
       "      <td>26100.0</td>\n",
       "      <td>0</td>\n",
       "      <td>0</td>\n",
       "    </tr>\n",
       "  </tbody>\n",
       "</table>\n",
       "</div>"
      ],
      "text/plain": [
       "   Пол  Возраст  Зарплата  Члены семьи  Страховые выплаты\n",
       "0    1     41.0   49600.0            1                  0\n",
       "1    0     46.0   38000.0            1                  1\n",
       "2    0     29.0   21000.0            0                  0\n",
       "3    0     21.0   41700.0            2                  0\n",
       "4    1     28.0   26100.0            0                  0"
      ]
     },
     "execution_count": 2,
     "metadata": {},
     "output_type": "execute_result"
    }
   ],
   "source": [
    "insurance_df = pd.read_csv('insurance.csv')\n",
    "\n",
    "insurance_df.info()\n",
    "insurance_df.head()"
   ]
  },
  {
   "cell_type": "markdown",
   "metadata": {},
   "source": [
    "Пропусков в данных нет и выглядят они вполне нормально, значит предобработка данных не требуется."
   ]
  },
  {
   "cell_type": "markdown",
   "metadata": {},
   "source": [
    "## Умножение матриц"
   ]
  },
  {
   "cell_type": "markdown",
   "metadata": {},
   "source": [
    "Обозначения:\n",
    "\n",
    "- $X$ — матрица признаков (нулевой столбец состоит из единиц)\n",
    "\n",
    "- $y$ — вектор целевого признака\n",
    "\n",
    "- $P$ — матрица, на которую умножаются признаки\n",
    "\n",
    "- $w$ — вектор весов линейной регрессии (нулевой элемент равен сдвигу)"
   ]
  },
  {
   "cell_type": "markdown",
   "metadata": {},
   "source": [
    "Предсказания:\n",
    "\n",
    "$$\n",
    "a = Xw\n",
    "$$\n",
    "\n",
    "Задача обучения:\n",
    "\n",
    "$$\n",
    "w = \\arg\\min_w MSE(Xw, y)\n",
    "$$\n",
    "\n",
    "Формула обучения:\n",
    "\n",
    "$$\n",
    "w = (X^T X)^{-1} X^T y\n",
    "$$"
   ]
  },
  {
   "cell_type": "markdown",
   "metadata": {},
   "source": [
    "**Ответ:**\n",
    "\n",
    "После умножения исходных данных на обратимую матрицу качество линейной регрессии не изменится.\n",
    "\n",
    "**Обоснование:**\n",
    "\n",
    "Докажем, что $a = Xw = a' = X'w'$ .\n",
    "\n",
    "$\n",
    "X' = XP\n",
    "$\n",
    "\n",
    "Подставим XP в формулу для весов w и проведем преобразования:\n",
    "\n",
    "$\n",
    "w' = ((XP)^T XP)^{-1} (XP)^T y\n",
    "$\n",
    "\n",
    "$\n",
    "w' = (P^T X^T XP)^{-1} P^T X^T y\n",
    "$\n",
    "\n",
    "$\n",
    "w' = (X^T XP)^{-1} (P^T)^{-1} P^T X^T y\n",
    "$\n",
    "\n",
    "$\n",
    "w' = (X^T XP)^{-1} X^T y\n",
    "$\n",
    "\n",
    "$\n",
    "w' = P^{-1} (X^T X)^{-1} X^T y\n",
    "$\n",
    "\n",
    "Выражение $(X^T X)^{-1} X^T y$ — это изначальная формула для весов w, можно смело заменить одно другим.\n",
    "\n",
    "$\n",
    "w' = P^{-1} w\n",
    "$\n",
    "\n",
    "Выражение упрощено максимально. Заменим правую часть равенства $a' = X'w'$ полученными выражениями.\n",
    "\n",
    "$\n",
    "X'w' = XP P^{-1} w\n",
    "$\n",
    "\n",
    "$\n",
    "X'w' = Xw\n",
    "$\n",
    "\n",
    "Что и требовалось доказать."
   ]
  },
  {
   "cell_type": "markdown",
   "metadata": {},
   "source": [
    "## Алгоритм преобразования"
   ]
  },
  {
   "cell_type": "markdown",
   "metadata": {},
   "source": [
    "**Алгоритм**\n",
    "\n",
    "1. Получить метрику качества на исходных данных\n",
    "2. Создать матрицу, состоящую из случайных чисел\n",
    "3. Проверить полученную матрицу на обратимость\n",
    "4. Закодировать исходные данные, умножив их на полученную матрицу\n",
    "5. Получить метрику качества на закодированных данных\n",
    "6. Сравнить полученные метрики и сделать выводы о проделанной работе"
   ]
  },
  {
   "cell_type": "markdown",
   "metadata": {},
   "source": [
    "## Проверка алгоритма"
   ]
  },
  {
   "cell_type": "code",
   "execution_count": 3,
   "metadata": {},
   "outputs": [],
   "source": [
    "def features(df):\n",
    "    features = df.drop(['Страховые выплаты'], axis=1)\n",
    "    return features\n",
    "\n",
    "def target(df):\n",
    "    target = df['Страховые выплаты']\n",
    "    return target\n",
    "\n",
    "features = features(insurance_df)\n",
    "target = target(insurance_df)"
   ]
  },
  {
   "cell_type": "code",
   "execution_count": 4,
   "metadata": {},
   "outputs": [
    {
     "name": "stdout",
     "output_type": "stream",
     "text": [
      "R2 модели, обученной на исходных данных: 0.42\n",
      "Wall time: 71.8 ms\n"
     ]
    }
   ],
   "source": [
    "%%time\n",
    "\n",
    "model = LinearRegression()\n",
    "model.fit(features, target)\n",
    "r2 = cross_val_score(model, features, target, cv=5).mean()\n",
    "print('R2 модели, обученной на исходных данных:', round(r2, 2))"
   ]
  },
  {
   "cell_type": "code",
   "execution_count": 5,
   "metadata": {},
   "outputs": [
    {
     "name": "stdout",
     "output_type": "stream",
     "text": [
      "Wall time: 10.7 ms\n"
     ]
    }
   ],
   "source": [
    "%%time\n",
    "\n",
    "matrix = np.random.normal(size=(4, 4))\n",
    "inv(matrix)\n",
    "features_new = features.values @ matrix"
   ]
  },
  {
   "cell_type": "code",
   "execution_count": 6,
   "metadata": {},
   "outputs": [
    {
     "name": "stdout",
     "output_type": "stream",
     "text": [
      "R2 модели, обученной на зашифрованных данных: 0.42\n",
      "Wall time: 6 ms\n"
     ]
    }
   ],
   "source": [
    "%%time\n",
    "\n",
    "model.fit(features_new, target)\n",
    "r2_new = cross_val_score(model, features_new, target, cv=5).mean()\n",
    "print('R2 модели, обученной на зашифрованных данных:', round(r2_new, 2))"
   ]
  },
  {
   "cell_type": "markdown",
   "metadata": {},
   "source": [
    "Проверка алгоритма подтвердила, что шифрование с помощью умножения исходных данных на обратимую матрицу не повлияет на метрику R2. Это означает, что представленный метод шифрования данных может быть полезен в реальных разработках.\n",
    "\n",
    "Шифрование умножением матриц, по сравнению с более сложными алгоритмами шифрования (например, AES или RSA), требует очень мало процессорного времени, что дает значительную экономию ресурсов.\n",
    "\n",
    "Однако есть и минусы: главным недостатком представленного метода является увеличение сложности проверки на вырожденность преобразования с ростом количества признаков. В рассмотренном случае мы подобрали подходящую матрицу размером 4х4, но в случае с признаками, исчисляемыми сотнями или даже тысячами, расчеты займут гораздо больше времени, и для такой проблемы необходимо будет найти решение."
   ]
  }
 ],
 "metadata": {
  "ExecuteTimeLog": [
   {
    "duration": 274,
    "start_time": "2021-12-16T05:11:12.528Z"
   },
   {
    "duration": 1005,
    "start_time": "2021-12-16T05:11:15.479Z"
   },
   {
    "duration": 30,
    "start_time": "2021-12-16T05:11:16.485Z"
   },
   {
    "duration": 4,
    "start_time": "2021-12-16T05:14:32.390Z"
   },
   {
    "duration": 23,
    "start_time": "2021-12-16T05:14:33.367Z"
   },
   {
    "duration": 4,
    "start_time": "2021-12-16T05:14:33.939Z"
   },
   {
    "duration": 13,
    "start_time": "2021-12-16T05:14:34.166Z"
   },
   {
    "duration": 5,
    "start_time": "2021-12-16T05:16:13.551Z"
   }
  ],
  "kernelspec": {
   "display_name": "Python 3 (ipykernel)",
   "language": "python",
   "name": "python3"
  },
  "language_info": {
   "codemirror_mode": {
    "name": "ipython",
    "version": 3
   },
   "file_extension": ".py",
   "mimetype": "text/x-python",
   "name": "python",
   "nbconvert_exporter": "python",
   "pygments_lexer": "ipython3",
   "version": "3.9.7"
  },
  "toc": {
   "base_numbering": 1,
   "nav_menu": {},
   "number_sections": true,
   "sideBar": true,
   "skip_h1_title": true,
   "title_cell": "Содержание",
   "title_sidebar": "Contents",
   "toc_cell": true,
   "toc_position": {},
   "toc_section_display": true,
   "toc_window_display": true
  }
 },
 "nbformat": 4,
 "nbformat_minor": 2
}
